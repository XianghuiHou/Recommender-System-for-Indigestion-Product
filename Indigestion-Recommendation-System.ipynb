{
 "cells": [
  {
   "cell_type": "markdown",
   "metadata": {},
   "source": [
    "# 1. Data Preprocessing"
   ]
  },
  {
   "cell_type": "code",
   "execution_count": 1,
   "metadata": {},
   "outputs": [],
   "source": [
    "import pandas as pd \n",
    "import numpy as np\n",
    "import warnings\n",
    "warnings.filterwarnings('ignore')"
   ]
  },
  {
   "cell_type": "code",
   "execution_count": 225,
   "metadata": {},
   "outputs": [
    {
     "data": {
      "text/html": [
       "<div>\n",
       "<style scoped>\n",
       "    .dataframe tbody tr th:only-of-type {\n",
       "        vertical-align: middle;\n",
       "    }\n",
       "\n",
       "    .dataframe tbody tr th {\n",
       "        vertical-align: top;\n",
       "    }\n",
       "\n",
       "    .dataframe thead th {\n",
       "        text-align: right;\n",
       "    }\n",
       "</style>\n",
       "<table border=\"1\" class=\"dataframe\">\n",
       "  <thead>\n",
       "    <tr style=\"text-align: right;\">\n",
       "      <th></th>\n",
       "      <th>link</th>\n",
       "      <th>total_reviews</th>\n",
       "      <th>total_reviews_url</th>\n",
       "      <th>reviewer_name</th>\n",
       "      <th>reviewer_url</th>\n",
       "      <th>reviewer_rate</th>\n",
       "      <th>reviewer_rate_url</th>\n",
       "      <th>reviewer_theme</th>\n",
       "      <th>reviewer_theme_url</th>\n",
       "      <th>reviewer_content</th>\n",
       "      <th>Unnamed: 10</th>\n",
       "      <th>Unnamed: 11</th>\n",
       "      <th>Unnamed: 12</th>\n",
       "      <th>Unnamed: 13</th>\n",
       "      <th>Unnamed: 14</th>\n",
       "      <th>Unnamed: 15</th>\n",
       "      <th>Unnamed: 16</th>\n",
       "      <th>Unnamed: 17</th>\n",
       "      <th>Unnamed: 18</th>\n",
       "    </tr>\n",
       "  </thead>\n",
       "  <tbody>\n",
       "    <tr>\n",
       "      <th>0</th>\n",
       "      <td>http://www.amazon.com/dp/B003OB0H6O</td>\n",
       "      <td>623 customer reviews</td>\n",
       "      <td>https://www.amazon.com/Maruchan-Instant-Lunch-...</td>\n",
       "      <td>MrBob</td>\n",
       "      <td>https://www.amazon.com/gp/profile/amzn1.accoun...</td>\n",
       "      <td>2.0 out of 5 stars</td>\n",
       "      <td>https://www.amazon.com/gp/customer-reviews/R9B...</td>\n",
       "      <td>Something was definitely wrong.</td>\n",
       "      <td>https://www.amazon.com/gp/customer-reviews/R9B...</td>\n",
       "      <td>Iüm always a bit sorry when I have to give a p...</td>\n",
       "      <td>NaN</td>\n",
       "      <td>NaN</td>\n",
       "      <td>NaN</td>\n",
       "      <td>NaN</td>\n",
       "      <td>NaN</td>\n",
       "      <td>NaN</td>\n",
       "      <td>NaN</td>\n",
       "      <td>NaN</td>\n",
       "      <td>NaN</td>\n",
       "    </tr>\n",
       "    <tr>\n",
       "      <th>1</th>\n",
       "      <td>http://www.amazon.com/dp/B003OB0H6O</td>\n",
       "      <td>623 customer reviews</td>\n",
       "      <td>https://www.amazon.com/Maruchan-Instant-Lunch-...</td>\n",
       "      <td>Mr Review</td>\n",
       "      <td>https://www.amazon.com/gp/profile/amzn1.accoun...</td>\n",
       "      <td>1.0 out of 5 stars</td>\n",
       "      <td>https://www.amazon.com/gp/customer-reviews/RF6...</td>\n",
       "      <td>Cockroach</td>\n",
       "      <td>https://www.amazon.com/gp/customer-reviews/RF6...</td>\n",
       "      <td>I found cockroach inside the corn. I am never ...</td>\n",
       "      <td>NaN</td>\n",
       "      <td>NaN</td>\n",
       "      <td>NaN</td>\n",
       "      <td>NaN</td>\n",
       "      <td>NaN</td>\n",
       "      <td>NaN</td>\n",
       "      <td>NaN</td>\n",
       "      <td>NaN</td>\n",
       "      <td>NaN</td>\n",
       "    </tr>\n",
       "    <tr>\n",
       "      <th>2</th>\n",
       "      <td>http://www.amazon.com/dp/B003OB0H6O</td>\n",
       "      <td>623 customer reviews</td>\n",
       "      <td>https://www.amazon.com/Maruchan-Instant-Lunch-...</td>\n",
       "      <td>mxh</td>\n",
       "      <td>https://www.amazon.com/gp/profile/amzn1.accoun...</td>\n",
       "      <td>5.0 out of 5 stars</td>\n",
       "      <td>https://www.amazon.com/gp/customer-reviews/R1V...</td>\n",
       "      <td>Might be spicy or not.</td>\n",
       "      <td>https://www.amazon.com/gp/customer-reviews/R1V...</td>\n",
       "      <td>The price is worth it if you don't have a near...</td>\n",
       "      <td>NaN</td>\n",
       "      <td>NaN</td>\n",
       "      <td>NaN</td>\n",
       "      <td>NaN</td>\n",
       "      <td>NaN</td>\n",
       "      <td>NaN</td>\n",
       "      <td>NaN</td>\n",
       "      <td>NaN</td>\n",
       "      <td>NaN</td>\n",
       "    </tr>\n",
       "    <tr>\n",
       "      <th>3</th>\n",
       "      <td>http://www.amazon.com/dp/B003OB0H6O</td>\n",
       "      <td>623 customer reviews</td>\n",
       "      <td>https://www.amazon.com/Maruchan-Instant-Lunch-...</td>\n",
       "      <td>Angie</td>\n",
       "      <td>https://www.amazon.com/gp/profile/amzn1.accoun...</td>\n",
       "      <td>5.0 out of 5 stars</td>\n",
       "      <td>https://www.amazon.com/gp/customer-reviews/R2X...</td>\n",
       "      <td>Love the flavor and convenience</td>\n",
       "      <td>https://www.amazon.com/gp/customer-reviews/R2X...</td>\n",
       "      <td>These are perfect for me for work. The conveni...</td>\n",
       "      <td>NaN</td>\n",
       "      <td>NaN</td>\n",
       "      <td>NaN</td>\n",
       "      <td>NaN</td>\n",
       "      <td>NaN</td>\n",
       "      <td>NaN</td>\n",
       "      <td>NaN</td>\n",
       "      <td>NaN</td>\n",
       "      <td>NaN</td>\n",
       "    </tr>\n",
       "    <tr>\n",
       "      <th>4</th>\n",
       "      <td>http://www.amazon.com/dp/B003OB0H6O</td>\n",
       "      <td>623 customer reviews</td>\n",
       "      <td>https://www.amazon.com/Maruchan-Instant-Lunch-...</td>\n",
       "      <td>T. Alexander</td>\n",
       "      <td>https://www.amazon.com/gp/profile/amzn1.accoun...</td>\n",
       "      <td>1.0 out of 5 stars</td>\n",
       "      <td>https://www.amazon.com/gp/customer-reviews/R2R...</td>\n",
       "      <td>NOT Maruchan Instant Lunch</td>\n",
       "      <td>https://www.amazon.com/gp/customer-reviews/R2R...</td>\n",
       "      <td>I ordered this because I used to buy these at ...</td>\n",
       "      <td>NaN</td>\n",
       "      <td>NaN</td>\n",
       "      <td>NaN</td>\n",
       "      <td>NaN</td>\n",
       "      <td>NaN</td>\n",
       "      <td>NaN</td>\n",
       "      <td>NaN</td>\n",
       "      <td>NaN</td>\n",
       "      <td>NaN</td>\n",
       "    </tr>\n",
       "  </tbody>\n",
       "</table>\n",
       "</div>"
      ],
      "text/plain": [
       "                                  link         total_reviews  \\\n",
       "0  http://www.amazon.com/dp/B003OB0H6O  623 customer reviews   \n",
       "1  http://www.amazon.com/dp/B003OB0H6O  623 customer reviews   \n",
       "2  http://www.amazon.com/dp/B003OB0H6O  623 customer reviews   \n",
       "3  http://www.amazon.com/dp/B003OB0H6O  623 customer reviews   \n",
       "4  http://www.amazon.com/dp/B003OB0H6O  623 customer reviews   \n",
       "\n",
       "                                   total_reviews_url reviewer_name  \\\n",
       "0  https://www.amazon.com/Maruchan-Instant-Lunch-...         MrBob   \n",
       "1  https://www.amazon.com/Maruchan-Instant-Lunch-...     Mr Review   \n",
       "2  https://www.amazon.com/Maruchan-Instant-Lunch-...           mxh   \n",
       "3  https://www.amazon.com/Maruchan-Instant-Lunch-...         Angie   \n",
       "4  https://www.amazon.com/Maruchan-Instant-Lunch-...  T. Alexander   \n",
       "\n",
       "                                        reviewer_url       reviewer_rate  \\\n",
       "0  https://www.amazon.com/gp/profile/amzn1.accoun...  2.0 out of 5 stars   \n",
       "1  https://www.amazon.com/gp/profile/amzn1.accoun...  1.0 out of 5 stars   \n",
       "2  https://www.amazon.com/gp/profile/amzn1.accoun...  5.0 out of 5 stars   \n",
       "3  https://www.amazon.com/gp/profile/amzn1.accoun...  5.0 out of 5 stars   \n",
       "4  https://www.amazon.com/gp/profile/amzn1.accoun...  1.0 out of 5 stars   \n",
       "\n",
       "                                   reviewer_rate_url  \\\n",
       "0  https://www.amazon.com/gp/customer-reviews/R9B...   \n",
       "1  https://www.amazon.com/gp/customer-reviews/RF6...   \n",
       "2  https://www.amazon.com/gp/customer-reviews/R1V...   \n",
       "3  https://www.amazon.com/gp/customer-reviews/R2X...   \n",
       "4  https://www.amazon.com/gp/customer-reviews/R2R...   \n",
       "\n",
       "                    reviewer_theme  \\\n",
       "0  Something was definitely wrong.   \n",
       "1                        Cockroach   \n",
       "2           Might be spicy or not.   \n",
       "3  Love the flavor and convenience   \n",
       "4       NOT Maruchan Instant Lunch   \n",
       "\n",
       "                                  reviewer_theme_url  \\\n",
       "0  https://www.amazon.com/gp/customer-reviews/R9B...   \n",
       "1  https://www.amazon.com/gp/customer-reviews/RF6...   \n",
       "2  https://www.amazon.com/gp/customer-reviews/R1V...   \n",
       "3  https://www.amazon.com/gp/customer-reviews/R2X...   \n",
       "4  https://www.amazon.com/gp/customer-reviews/R2R...   \n",
       "\n",
       "                                    reviewer_content Unnamed: 10 Unnamed: 11  \\\n",
       "0  Iüm always a bit sorry when I have to give a p...         NaN         NaN   \n",
       "1  I found cockroach inside the corn. I am never ...         NaN         NaN   \n",
       "2  The price is worth it if you don't have a near...         NaN         NaN   \n",
       "3  These are perfect for me for work. The conveni...         NaN         NaN   \n",
       "4  I ordered this because I used to buy these at ...         NaN         NaN   \n",
       "\n",
       "  Unnamed: 12 Unnamed: 13 Unnamed: 14 Unnamed: 15 Unnamed: 16 Unnamed: 17  \\\n",
       "0         NaN         NaN         NaN         NaN         NaN         NaN   \n",
       "1         NaN         NaN         NaN         NaN         NaN         NaN   \n",
       "2         NaN         NaN         NaN         NaN         NaN         NaN   \n",
       "3         NaN         NaN         NaN         NaN         NaN         NaN   \n",
       "4         NaN         NaN         NaN         NaN         NaN         NaN   \n",
       "\n",
       "  Unnamed: 18  \n",
       "0         NaN  \n",
       "1         NaN  \n",
       "2         NaN  \n",
       "3         NaN  \n",
       "4         NaN  "
      ]
     },
     "execution_count": 225,
     "metadata": {},
     "output_type": "execute_result"
    }
   ],
   "source": [
    "#df = pd.read_csv('sleep_review.csv')\n",
    "df = pd.read_excel('indigestion_reviews.xlsx',sheet_name='sheet3')\n",
    "df.head() \n"
   ]
  },
  {
   "cell_type": "code",
   "execution_count": 3,
   "metadata": {},
   "outputs": [
    {
     "data": {
      "text/plain": [
       "(6042, 19)"
      ]
     },
     "execution_count": 3,
     "metadata": {},
     "output_type": "execute_result"
    }
   ],
   "source": [
    "df.shape # 6042 rows"
   ]
  },
  {
   "cell_type": "code",
   "execution_count": 226,
   "metadata": {},
   "outputs": [
    {
     "data": {
      "text/html": [
       "<div>\n",
       "<style scoped>\n",
       "    .dataframe tbody tr th:only-of-type {\n",
       "        vertical-align: middle;\n",
       "    }\n",
       "\n",
       "    .dataframe tbody tr th {\n",
       "        vertical-align: top;\n",
       "    }\n",
       "\n",
       "    .dataframe thead th {\n",
       "        text-align: right;\n",
       "    }\n",
       "</style>\n",
       "<table border=\"1\" class=\"dataframe\">\n",
       "  <thead>\n",
       "    <tr style=\"text-align: right;\">\n",
       "      <th></th>\n",
       "      <th>link</th>\n",
       "      <th>reviewer_name</th>\n",
       "      <th>reviewer_rate</th>\n",
       "      <th>reviewer_content</th>\n",
       "    </tr>\n",
       "  </thead>\n",
       "  <tbody>\n",
       "    <tr>\n",
       "      <th>0</th>\n",
       "      <td>http://www.amazon.com/dp/B003OB0H6O</td>\n",
       "      <td>MrBob</td>\n",
       "      <td>2.0 out of 5 stars</td>\n",
       "      <td>Iüm always a bit sorry when I have to give a p...</td>\n",
       "    </tr>\n",
       "    <tr>\n",
       "      <th>1</th>\n",
       "      <td>http://www.amazon.com/dp/B003OB0H6O</td>\n",
       "      <td>Mr Review</td>\n",
       "      <td>1.0 out of 5 stars</td>\n",
       "      <td>I found cockroach inside the corn. I am never ...</td>\n",
       "    </tr>\n",
       "    <tr>\n",
       "      <th>2</th>\n",
       "      <td>http://www.amazon.com/dp/B003OB0H6O</td>\n",
       "      <td>mxh</td>\n",
       "      <td>5.0 out of 5 stars</td>\n",
       "      <td>The price is worth it if you don't have a near...</td>\n",
       "    </tr>\n",
       "    <tr>\n",
       "      <th>3</th>\n",
       "      <td>http://www.amazon.com/dp/B003OB0H6O</td>\n",
       "      <td>Angie</td>\n",
       "      <td>5.0 out of 5 stars</td>\n",
       "      <td>These are perfect for me for work. The conveni...</td>\n",
       "    </tr>\n",
       "    <tr>\n",
       "      <th>4</th>\n",
       "      <td>http://www.amazon.com/dp/B003OB0H6O</td>\n",
       "      <td>T. Alexander</td>\n",
       "      <td>1.0 out of 5 stars</td>\n",
       "      <td>I ordered this because I used to buy these at ...</td>\n",
       "    </tr>\n",
       "  </tbody>\n",
       "</table>\n",
       "</div>"
      ],
      "text/plain": [
       "                                  link reviewer_name       reviewer_rate  \\\n",
       "0  http://www.amazon.com/dp/B003OB0H6O         MrBob  2.0 out of 5 stars   \n",
       "1  http://www.amazon.com/dp/B003OB0H6O     Mr Review  1.0 out of 5 stars   \n",
       "2  http://www.amazon.com/dp/B003OB0H6O           mxh  5.0 out of 5 stars   \n",
       "3  http://www.amazon.com/dp/B003OB0H6O         Angie  5.0 out of 5 stars   \n",
       "4  http://www.amazon.com/dp/B003OB0H6O  T. Alexander  1.0 out of 5 stars   \n",
       "\n",
       "                                    reviewer_content  \n",
       "0  Iüm always a bit sorry when I have to give a p...  \n",
       "1  I found cockroach inside the corn. I am never ...  \n",
       "2  The price is worth it if you don't have a near...  \n",
       "3  These are perfect for me for work. The conveni...  \n",
       "4  I ordered this because I used to buy these at ...  "
      ]
     },
     "execution_count": 226,
     "metadata": {},
     "output_type": "execute_result"
    }
   ],
   "source": [
    "df = df[['link','reviewer_name','reviewer_rate','reviewer_content' ]]\n",
    "df = df.dropna()\n",
    "df.head()"
   ]
  },
  {
   "cell_type": "code",
   "execution_count": 227,
   "metadata": {},
   "outputs": [
    {
     "name": "stderr",
     "output_type": "stream",
     "text": [
      "IOPub data rate exceeded.\n",
      "The notebook server will temporarily stop sending output\n",
      "to the client in order to avoid crashing it.\n",
      "To change this limit, set the config variable\n",
      "`--NotebookApp.iopub_data_rate_limit`.\n",
      "\n",
      "Current values:\n",
      "NotebookApp.iopub_data_rate_limit=1000000.0 (bytes/sec)\n",
      "NotebookApp.rate_limit_window=3.0 (secs)\n",
      "\n"
     ]
    }
   ],
   "source": [
    "# extract product ID\n",
    "import re\n",
    "l=[]\n",
    "for i in df.index:\n",
    "    l2=re.search(r\"[A-Z0-9_]+\",df['link'][i])\n",
    "    p=l2.string[l2.start():l2.end()]\n",
    "    l.append(p)\n",
    "    print(l)\n",
    "df['link'] =l"
   ]
  },
  {
   "cell_type": "code",
   "execution_count": 228,
   "metadata": {},
   "outputs": [
    {
     "data": {
      "text/plain": [
       "0    B003OB0H6O\n",
       "1    B003OB0H6O\n",
       "2    B003OB0H6O\n",
       "3    B003OB0H6O\n",
       "4    B003OB0H6O\n",
       "Name: link, dtype: object"
      ]
     },
     "execution_count": 228,
     "metadata": {},
     "output_type": "execute_result"
    }
   ],
   "source": [
    "#df.rename(columns={\"link\": \"productId\"})\n",
    "df.head()\n",
    "df['link'].head()"
   ]
  },
  {
   "cell_type": "code",
   "execution_count": 229,
   "metadata": {},
   "outputs": [],
   "source": [
    "df = df.loc[~pd.isnull(df['reviewer_rate'])]\n",
    "df = df.loc[~pd.isnull(df['reviewer_content'])]\n",
    " \n",
    "#df = df.loc[~(df['reviewer_rate'] == 'https://www.amazon.com/gp/customer-reviews/R2FP91V1JSN4QJ/ref=cm_cr_dp_d_rvw_ttl?ie=UTF8&ASIN=B001EQ4CT4')]\n",
    "#df.index[df['reviewer_rate'] == 'https://www.amazon.com/gp/customer-reviews/R2FP91V1JSN4QJ/ref=cm_cr_dp_d_rvw_ttl?ie=UTF8&ASIN=B001EQ4CT4'].tolist()\n",
    "#df.loc[(df['link'] == 'B001EO5U3I')] # error  6008\n",
    "#df.drop(6008, inplace=True)\n",
    "#df.loc[(df['link'] == 'B001EO5U3I')] \n",
    "#df.loc[(df['link'] == 'B001EQ4CT4')]\n",
    "#df.drop(1139, inplace=True) \n"
   ]
  },
  {
   "cell_type": "code",
   "execution_count": 14,
   "metadata": {},
   "outputs": [
    {
     "data": {
      "text/plain": [
       "(5814, 4)"
      ]
     },
     "execution_count": 14,
     "metadata": {},
     "output_type": "execute_result"
    }
   ],
   "source": [
    "df.shape"
   ]
  },
  {
   "cell_type": "code",
   "execution_count": 13,
   "metadata": {},
   "outputs": [
    {
     "data": {
      "text/html": [
       "<div>\n",
       "<style scoped>\n",
       "    .dataframe tbody tr th:only-of-type {\n",
       "        vertical-align: middle;\n",
       "    }\n",
       "\n",
       "    .dataframe tbody tr th {\n",
       "        vertical-align: top;\n",
       "    }\n",
       "\n",
       "    .dataframe thead th {\n",
       "        text-align: right;\n",
       "    }\n",
       "</style>\n",
       "<table border=\"1\" class=\"dataframe\">\n",
       "  <thead>\n",
       "    <tr style=\"text-align: right;\">\n",
       "      <th></th>\n",
       "      <th>link</th>\n",
       "      <th>reviewer_name</th>\n",
       "      <th>reviewer_rate</th>\n",
       "      <th>reviewer_content</th>\n",
       "    </tr>\n",
       "  </thead>\n",
       "  <tbody>\n",
       "    <tr>\n",
       "      <th>0</th>\n",
       "      <td>B003OB0H6O</td>\n",
       "      <td>MrBob</td>\n",
       "      <td>2.0 out of 5 stars</td>\n",
       "      <td>Iüm always a bit sorry when I have to give a p...</td>\n",
       "    </tr>\n",
       "    <tr>\n",
       "      <th>1</th>\n",
       "      <td>B003OB0H6O</td>\n",
       "      <td>Mr Review</td>\n",
       "      <td>1.0 out of 5 stars</td>\n",
       "      <td>I found cockroach inside the corn. I am never ...</td>\n",
       "    </tr>\n",
       "    <tr>\n",
       "      <th>2</th>\n",
       "      <td>B003OB0H6O</td>\n",
       "      <td>mxh</td>\n",
       "      <td>5.0 out of 5 stars</td>\n",
       "      <td>The price is worth it if you don't have a near...</td>\n",
       "    </tr>\n",
       "    <tr>\n",
       "      <th>3</th>\n",
       "      <td>B003OB0H6O</td>\n",
       "      <td>Angie</td>\n",
       "      <td>5.0 out of 5 stars</td>\n",
       "      <td>These are perfect for me for work. The conveni...</td>\n",
       "    </tr>\n",
       "    <tr>\n",
       "      <th>4</th>\n",
       "      <td>B003OB0H6O</td>\n",
       "      <td>T. Alexander</td>\n",
       "      <td>1.0 out of 5 stars</td>\n",
       "      <td>I ordered this because I used to buy these at ...</td>\n",
       "    </tr>\n",
       "  </tbody>\n",
       "</table>\n",
       "</div>"
      ],
      "text/plain": [
       "         link reviewer_name       reviewer_rate  \\\n",
       "0  B003OB0H6O         MrBob  2.0 out of 5 stars   \n",
       "1  B003OB0H6O     Mr Review  1.0 out of 5 stars   \n",
       "2  B003OB0H6O           mxh  5.0 out of 5 stars   \n",
       "3  B003OB0H6O         Angie  5.0 out of 5 stars   \n",
       "4  B003OB0H6O  T. Alexander  1.0 out of 5 stars   \n",
       "\n",
       "                                    reviewer_content  \n",
       "0  Iüm always a bit sorry when I have to give a p...  \n",
       "1  I found cockroach inside the corn. I am never ...  \n",
       "2  The price is worth it if you don't have a near...  \n",
       "3  These are perfect for me for work. The conveni...  \n",
       "4  I ordered this because I used to buy these at ...  "
      ]
     },
     "execution_count": 13,
     "metadata": {},
     "output_type": "execute_result"
    }
   ],
   "source": [
    "df.head() "
   ]
  },
  {
   "cell_type": "markdown",
   "metadata": {},
   "source": [
    "## 1.1 Extract rate from reviewer_rate"
   ]
  },
  {
   "cell_type": "code",
   "execution_count": 230,
   "metadata": {},
   "outputs": [],
   "source": [
    "def convert(rate):\n",
    "    return int(float(rate.split()[0]))"
   ]
  },
  {
   "cell_type": "code",
   "execution_count": 231,
   "metadata": {},
   "outputs": [],
   "source": [
    "df['reviewer_rate']=df['reviewer_rate'].apply(convert)"
   ]
  },
  {
   "cell_type": "code",
   "execution_count": 19,
   "metadata": {},
   "outputs": [
    {
     "data": {
      "text/html": [
       "<div>\n",
       "<style scoped>\n",
       "    .dataframe tbody tr th:only-of-type {\n",
       "        vertical-align: middle;\n",
       "    }\n",
       "\n",
       "    .dataframe tbody tr th {\n",
       "        vertical-align: top;\n",
       "    }\n",
       "\n",
       "    .dataframe thead th {\n",
       "        text-align: right;\n",
       "    }\n",
       "</style>\n",
       "<table border=\"1\" class=\"dataframe\">\n",
       "  <thead>\n",
       "    <tr style=\"text-align: right;\">\n",
       "      <th></th>\n",
       "      <th>link</th>\n",
       "      <th>reviewer_name</th>\n",
       "      <th>reviewer_rate</th>\n",
       "      <th>reviewer_content</th>\n",
       "    </tr>\n",
       "  </thead>\n",
       "  <tbody>\n",
       "    <tr>\n",
       "      <th>0</th>\n",
       "      <td>B003OB0H6O</td>\n",
       "      <td>MrBob</td>\n",
       "      <td>2</td>\n",
       "      <td>Iüm always a bit sorry when I have to give a p...</td>\n",
       "    </tr>\n",
       "    <tr>\n",
       "      <th>1</th>\n",
       "      <td>B003OB0H6O</td>\n",
       "      <td>Mr Review</td>\n",
       "      <td>1</td>\n",
       "      <td>I found cockroach inside the corn. I am never ...</td>\n",
       "    </tr>\n",
       "    <tr>\n",
       "      <th>2</th>\n",
       "      <td>B003OB0H6O</td>\n",
       "      <td>mxh</td>\n",
       "      <td>5</td>\n",
       "      <td>The price is worth it if you don't have a near...</td>\n",
       "    </tr>\n",
       "    <tr>\n",
       "      <th>3</th>\n",
       "      <td>B003OB0H6O</td>\n",
       "      <td>Angie</td>\n",
       "      <td>5</td>\n",
       "      <td>These are perfect for me for work. The conveni...</td>\n",
       "    </tr>\n",
       "    <tr>\n",
       "      <th>4</th>\n",
       "      <td>B003OB0H6O</td>\n",
       "      <td>T. Alexander</td>\n",
       "      <td>1</td>\n",
       "      <td>I ordered this because I used to buy these at ...</td>\n",
       "    </tr>\n",
       "  </tbody>\n",
       "</table>\n",
       "</div>"
      ],
      "text/plain": [
       "         link reviewer_name  reviewer_rate  \\\n",
       "0  B003OB0H6O         MrBob              2   \n",
       "1  B003OB0H6O     Mr Review              1   \n",
       "2  B003OB0H6O           mxh              5   \n",
       "3  B003OB0H6O         Angie              5   \n",
       "4  B003OB0H6O  T. Alexander              1   \n",
       "\n",
       "                                    reviewer_content  \n",
       "0  Iüm always a bit sorry when I have to give a p...  \n",
       "1  I found cockroach inside the corn. I am never ...  \n",
       "2  The price is worth it if you don't have a near...  \n",
       "3  These are perfect for me for work. The conveni...  \n",
       "4  I ordered this because I used to buy these at ...  "
      ]
     },
     "execution_count": 19,
     "metadata": {},
     "output_type": "execute_result"
    }
   ],
   "source": [
    "df.head()"
   ]
  },
  {
   "cell_type": "markdown",
   "metadata": {},
   "source": [
    "## 1.2  Product based collaborative filtering"
   ]
  },
  {
   "cell_type": "code",
   "execution_count": 20,
   "metadata": {},
   "outputs": [],
   "source": [
    "#compute the count and mean value as group by the products\n",
    "count = df.groupby(\"link\", as_index=False).count() # number of record for each link (ID)\n",
    "mean = df.groupby(\"link\", as_index=False).mean()  # mean reviewer_rate for each link (ID) \n"
   ]
  },
  {
   "cell_type": "code",
   "execution_count": 23,
   "metadata": {},
   "outputs": [
    {
     "name": "stdout",
     "output_type": "stream",
     "text": [
      "         link  reviewer_name  reviewer_rate  reviewer_content\n",
      "0  B0000CCZYY              8              8                 8\n",
      "1  B0000DID5Q              7              7                 7\n",
      "2  B0000GHNT0              8              8                 8\n",
      "3  B0000V8IOE              5              5                 5\n",
      "4  B00014DAHU             16             16                16\n",
      "         link  reviewer_rate\n",
      "0  B0000CCZYY       4.750000\n",
      "1  B0000DID5Q       4.714286\n",
      "2  B0000GHNT0       5.000000\n",
      "3  B0000V8IOE       3.800000\n",
      "4  B00014DAHU       4.125000\n"
     ]
    }
   ],
   "source": [
    "print(count.head())\n",
    "print(mean.head())"
   ]
  },
  {
   "cell_type": "code",
   "execution_count": 29,
   "metadata": {},
   "outputs": [
    {
     "data": {
      "text/html": [
       "<div>\n",
       "<style scoped>\n",
       "    .dataframe tbody tr th:only-of-type {\n",
       "        vertical-align: middle;\n",
       "    }\n",
       "\n",
       "    .dataframe tbody tr th {\n",
       "        vertical-align: top;\n",
       "    }\n",
       "\n",
       "    .dataframe thead th {\n",
       "        text-align: right;\n",
       "    }\n",
       "</style>\n",
       "<table border=\"1\" class=\"dataframe\">\n",
       "  <thead>\n",
       "    <tr style=\"text-align: right;\">\n",
       "      <th></th>\n",
       "      <th>link</th>\n",
       "      <th>reviewer_name_x</th>\n",
       "      <th>reviewer_rate_x</th>\n",
       "      <th>reviewer_content_x</th>\n",
       "      <th>reviewer_name_y</th>\n",
       "      <th>reviewer_rate_y</th>\n",
       "      <th>reviewer_content_y</th>\n",
       "      <th>_merge</th>\n",
       "    </tr>\n",
       "  </thead>\n",
       "  <tbody>\n",
       "    <tr>\n",
       "      <th>0</th>\n",
       "      <td>B003OB0H6O</td>\n",
       "      <td>MrBob</td>\n",
       "      <td>2</td>\n",
       "      <td>Iüm always a bit sorry when I have to give a p...</td>\n",
       "      <td>6</td>\n",
       "      <td>6</td>\n",
       "      <td>6</td>\n",
       "      <td>both</td>\n",
       "    </tr>\n",
       "    <tr>\n",
       "      <th>1</th>\n",
       "      <td>B003OB0H6O</td>\n",
       "      <td>Mr Review</td>\n",
       "      <td>1</td>\n",
       "      <td>I found cockroach inside the corn. I am never ...</td>\n",
       "      <td>6</td>\n",
       "      <td>6</td>\n",
       "      <td>6</td>\n",
       "      <td>both</td>\n",
       "    </tr>\n",
       "    <tr>\n",
       "      <th>2</th>\n",
       "      <td>B003OB0H6O</td>\n",
       "      <td>mxh</td>\n",
       "      <td>5</td>\n",
       "      <td>The price is worth it if you don't have a near...</td>\n",
       "      <td>6</td>\n",
       "      <td>6</td>\n",
       "      <td>6</td>\n",
       "      <td>both</td>\n",
       "    </tr>\n",
       "    <tr>\n",
       "      <th>3</th>\n",
       "      <td>B003OB0H6O</td>\n",
       "      <td>Angie</td>\n",
       "      <td>5</td>\n",
       "      <td>These are perfect for me for work. The conveni...</td>\n",
       "      <td>6</td>\n",
       "      <td>6</td>\n",
       "      <td>6</td>\n",
       "      <td>both</td>\n",
       "    </tr>\n",
       "    <tr>\n",
       "      <th>4</th>\n",
       "      <td>B003OB0H6O</td>\n",
       "      <td>T. Alexander</td>\n",
       "      <td>1</td>\n",
       "      <td>I ordered this because I used to buy these at ...</td>\n",
       "      <td>6</td>\n",
       "      <td>6</td>\n",
       "      <td>6</td>\n",
       "      <td>both</td>\n",
       "    </tr>\n",
       "  </tbody>\n",
       "</table>\n",
       "</div>"
      ],
      "text/plain": [
       "         link reviewer_name_x  reviewer_rate_x  \\\n",
       "0  B003OB0H6O           MrBob                2   \n",
       "1  B003OB0H6O       Mr Review                1   \n",
       "2  B003OB0H6O             mxh                5   \n",
       "3  B003OB0H6O           Angie                5   \n",
       "4  B003OB0H6O    T. Alexander                1   \n",
       "\n",
       "                                  reviewer_content_x  reviewer_name_y  \\\n",
       "0  Iüm always a bit sorry when I have to give a p...                6   \n",
       "1  I found cockroach inside the corn. I am never ...                6   \n",
       "2  The price is worth it if you don't have a near...                6   \n",
       "3  These are perfect for me for work. The conveni...                6   \n",
       "4  I ordered this because I used to buy these at ...                6   \n",
       "\n",
       "   reviewer_rate_y  reviewer_content_y _merge  \n",
       "0                6                   6   both  \n",
       "1                6                   6   both  \n",
       "2                6                   6   both  \n",
       "3                6                   6   both  \n",
       "4                6                   6   both  "
      ]
     },
     "execution_count": 29,
     "metadata": {},
     "output_type": "execute_result"
    }
   ],
   "source": [
    "#merge two dataset create df1\n",
    "df1 = pd.merge(df, count, how='right', on=['link'], indicator=True)\n",
    "df1.head(5)"
   ]
  },
  {
   "cell_type": "code",
   "execution_count": 34,
   "metadata": {},
   "outputs": [
    {
     "data": {
      "text/html": [
       "<div>\n",
       "<style scoped>\n",
       "    .dataframe tbody tr th:only-of-type {\n",
       "        vertical-align: middle;\n",
       "    }\n",
       "\n",
       "    .dataframe tbody tr th {\n",
       "        vertical-align: top;\n",
       "    }\n",
       "\n",
       "    .dataframe thead th {\n",
       "        text-align: right;\n",
       "    }\n",
       "</style>\n",
       "<table border=\"1\" class=\"dataframe\">\n",
       "  <thead>\n",
       "    <tr style=\"text-align: right;\">\n",
       "      <th></th>\n",
       "      <th>link</th>\n",
       "      <th>reviewer_name_x</th>\n",
       "      <th>reviewer_rate_x</th>\n",
       "      <th>reviewer_content_x</th>\n",
       "      <th>reviewer_name_y</th>\n",
       "      <th>reviewer_rate_y</th>\n",
       "      <th>reviewer_content_y</th>\n",
       "      <th>_merge</th>\n",
       "      <th>Score</th>\n",
       "      <th>Summary</th>\n",
       "      <th>ProductId</th>\n",
       "      <th>Count</th>\n",
       "    </tr>\n",
       "  </thead>\n",
       "  <tbody>\n",
       "    <tr>\n",
       "      <th>0</th>\n",
       "      <td>B003OB0H6O</td>\n",
       "      <td>MrBob</td>\n",
       "      <td>2</td>\n",
       "      <td>Iüm always a bit sorry when I have to give a p...</td>\n",
       "      <td>6</td>\n",
       "      <td>6</td>\n",
       "      <td>6</td>\n",
       "      <td>both</td>\n",
       "      <td>2</td>\n",
       "      <td>Iüm always a bit sorry when I have to give a p...</td>\n",
       "      <td>B003OB0H6O</td>\n",
       "      <td>6</td>\n",
       "    </tr>\n",
       "    <tr>\n",
       "      <th>1</th>\n",
       "      <td>B003OB0H6O</td>\n",
       "      <td>Mr Review</td>\n",
       "      <td>1</td>\n",
       "      <td>I found cockroach inside the corn. I am never ...</td>\n",
       "      <td>6</td>\n",
       "      <td>6</td>\n",
       "      <td>6</td>\n",
       "      <td>both</td>\n",
       "      <td>1</td>\n",
       "      <td>I found cockroach inside the corn. I am never ...</td>\n",
       "      <td>B003OB0H6O</td>\n",
       "      <td>6</td>\n",
       "    </tr>\n",
       "    <tr>\n",
       "      <th>2</th>\n",
       "      <td>B003OB0H6O</td>\n",
       "      <td>mxh</td>\n",
       "      <td>5</td>\n",
       "      <td>The price is worth it if you don't have a near...</td>\n",
       "      <td>6</td>\n",
       "      <td>6</td>\n",
       "      <td>6</td>\n",
       "      <td>both</td>\n",
       "      <td>5</td>\n",
       "      <td>The price is worth it if you don't have a near...</td>\n",
       "      <td>B003OB0H6O</td>\n",
       "      <td>6</td>\n",
       "    </tr>\n",
       "    <tr>\n",
       "      <th>3</th>\n",
       "      <td>B003OB0H6O</td>\n",
       "      <td>Angie</td>\n",
       "      <td>5</td>\n",
       "      <td>These are perfect for me for work. The conveni...</td>\n",
       "      <td>6</td>\n",
       "      <td>6</td>\n",
       "      <td>6</td>\n",
       "      <td>both</td>\n",
       "      <td>5</td>\n",
       "      <td>These are perfect for me for work. The conveni...</td>\n",
       "      <td>B003OB0H6O</td>\n",
       "      <td>6</td>\n",
       "    </tr>\n",
       "    <tr>\n",
       "      <th>4</th>\n",
       "      <td>B003OB0H6O</td>\n",
       "      <td>T. Alexander</td>\n",
       "      <td>1</td>\n",
       "      <td>I ordered this because I used to buy these at ...</td>\n",
       "      <td>6</td>\n",
       "      <td>6</td>\n",
       "      <td>6</td>\n",
       "      <td>both</td>\n",
       "      <td>1</td>\n",
       "      <td>I ordered this because I used to buy these at ...</td>\n",
       "      <td>B003OB0H6O</td>\n",
       "      <td>6</td>\n",
       "    </tr>\n",
       "  </tbody>\n",
       "</table>\n",
       "</div>"
      ],
      "text/plain": [
       "         link reviewer_name_x  reviewer_rate_x  \\\n",
       "0  B003OB0H6O           MrBob                2   \n",
       "1  B003OB0H6O       Mr Review                1   \n",
       "2  B003OB0H6O             mxh                5   \n",
       "3  B003OB0H6O           Angie                5   \n",
       "4  B003OB0H6O    T. Alexander                1   \n",
       "\n",
       "                                  reviewer_content_x  reviewer_name_y  \\\n",
       "0  Iüm always a bit sorry when I have to give a p...                6   \n",
       "1  I found cockroach inside the corn. I am never ...                6   \n",
       "2  The price is worth it if you don't have a near...                6   \n",
       "3  These are perfect for me for work. The conveni...                6   \n",
       "4  I ordered this because I used to buy these at ...                6   \n",
       "\n",
       "   reviewer_rate_y  reviewer_content_y _merge  Score  \\\n",
       "0                6                   6   both      2   \n",
       "1                6                   6   both      1   \n",
       "2                6                   6   both      5   \n",
       "3                6                   6   both      5   \n",
       "4                6                   6   both      1   \n",
       "\n",
       "                                             Summary   ProductId  Count  \n",
       "0  Iüm always a bit sorry when I have to give a p...  B003OB0H6O      6  \n",
       "1  I found cockroach inside the corn. I am never ...  B003OB0H6O      6  \n",
       "2  The price is worth it if you don't have a near...  B003OB0H6O      6  \n",
       "3  These are perfect for me for work. The conveni...  B003OB0H6O      6  \n",
       "4  I ordered this because I used to buy these at ...  B003OB0H6O      6  "
      ]
     },
     "execution_count": 34,
     "metadata": {},
     "output_type": "execute_result"
    }
   ],
   "source": [
    "#rename column\n",
    "df1[\"ProductId\"]=df1[\"link\"]\n",
    "df1[\"Count\"]=df1[\"reviewer_name_y\"]\n",
    "df1[\"Score\"] = df1[\"reviewer_rate_x\"]\n",
    "df1[\"Summary\"] = df1[\"reviewer_content_x\"]\n",
    "df1.head(5)"
   ]
  },
  {
   "cell_type": "code",
   "execution_count": 37,
   "metadata": {},
   "outputs": [
    {
     "data": {
      "text/html": [
       "<div>\n",
       "<style scoped>\n",
       "    .dataframe tbody tr th:only-of-type {\n",
       "        vertical-align: middle;\n",
       "    }\n",
       "\n",
       "    .dataframe tbody tr th {\n",
       "        vertical-align: top;\n",
       "    }\n",
       "\n",
       "    .dataframe thead th {\n",
       "        text-align: right;\n",
       "    }\n",
       "</style>\n",
       "<table border=\"1\" class=\"dataframe\">\n",
       "  <thead>\n",
       "    <tr style=\"text-align: right;\">\n",
       "      <th></th>\n",
       "      <th>ProductId</th>\n",
       "      <th>Summary</th>\n",
       "      <th>Score</th>\n",
       "      <th>Count</th>\n",
       "    </tr>\n",
       "  </thead>\n",
       "  <tbody>\n",
       "    <tr>\n",
       "      <th>0</th>\n",
       "      <td>B003OB0H6O</td>\n",
       "      <td>Iüm always a bit sorry when I have to give a p...</td>\n",
       "      <td>2</td>\n",
       "      <td>6</td>\n",
       "    </tr>\n",
       "    <tr>\n",
       "      <th>1</th>\n",
       "      <td>B003OB0H6O</td>\n",
       "      <td>I found cockroach inside the corn. I am never ...</td>\n",
       "      <td>1</td>\n",
       "      <td>6</td>\n",
       "    </tr>\n",
       "    <tr>\n",
       "      <th>2</th>\n",
       "      <td>B003OB0H6O</td>\n",
       "      <td>The price is worth it if you don't have a near...</td>\n",
       "      <td>5</td>\n",
       "      <td>6</td>\n",
       "    </tr>\n",
       "    <tr>\n",
       "      <th>3</th>\n",
       "      <td>B003OB0H6O</td>\n",
       "      <td>These are perfect for me for work. The conveni...</td>\n",
       "      <td>5</td>\n",
       "      <td>6</td>\n",
       "    </tr>\n",
       "    <tr>\n",
       "      <th>4</th>\n",
       "      <td>B003OB0H6O</td>\n",
       "      <td>I ordered this because I used to buy these at ...</td>\n",
       "      <td>1</td>\n",
       "      <td>6</td>\n",
       "    </tr>\n",
       "    <tr>\n",
       "      <th>5</th>\n",
       "      <td>B003OB0H6O</td>\n",
       "      <td>This is my favorite flavor of ramen hands down...</td>\n",
       "      <td>5</td>\n",
       "      <td>6</td>\n",
       "    </tr>\n",
       "    <tr>\n",
       "      <th>6</th>\n",
       "      <td>B0014B0HWK</td>\n",
       "      <td>This tea with raw honey is a must for cold season</td>\n",
       "      <td>5</td>\n",
       "      <td>8</td>\n",
       "    </tr>\n",
       "    <tr>\n",
       "      <th>7</th>\n",
       "      <td>B0014B0HWK</td>\n",
       "      <td>i bought it to help my eczema at the direction...</td>\n",
       "      <td>3</td>\n",
       "      <td>8</td>\n",
       "    </tr>\n",
       "    <tr>\n",
       "      <th>8</th>\n",
       "      <td>B0014B0HWK</td>\n",
       "      <td>speedy delivery; wonderful for maintaining hea...</td>\n",
       "      <td>5</td>\n",
       "      <td>8</td>\n",
       "    </tr>\n",
       "    <tr>\n",
       "      <th>9</th>\n",
       "      <td>B0014B0HWK</td>\n",
       "      <td>Love being able to getherbal teas online inste...</td>\n",
       "      <td>5</td>\n",
       "      <td>8</td>\n",
       "    </tr>\n",
       "  </tbody>\n",
       "</table>\n",
       "</div>"
      ],
      "text/plain": [
       "    ProductId                                            Summary  Score  Count\n",
       "0  B003OB0H6O  Iüm always a bit sorry when I have to give a p...      2      6\n",
       "1  B003OB0H6O  I found cockroach inside the corn. I am never ...      1      6\n",
       "2  B003OB0H6O  The price is worth it if you don't have a near...      5      6\n",
       "3  B003OB0H6O  These are perfect for me for work. The conveni...      5      6\n",
       "4  B003OB0H6O  I ordered this because I used to buy these at ...      1      6\n",
       "5  B003OB0H6O  This is my favorite flavor of ramen hands down...      5      6\n",
       "6  B0014B0HWK  This tea with raw honey is a must for cold season      5      8\n",
       "7  B0014B0HWK  i bought it to help my eczema at the direction...      3      8\n",
       "8  B0014B0HWK  speedy delivery; wonderful for maintaining hea...      5      8\n",
       "9  B0014B0HWK  Love being able to getherbal teas online inste...      5      8"
      ]
     },
     "execution_count": 37,
     "metadata": {},
     "output_type": "execute_result"
    }
   ],
   "source": [
    "#Create New datafram with selected variables\n",
    "df1 = df1[['ProductId','Summary','Score',\"Count\"]]\n",
    "df1.head(10)"
   ]
  },
  {
   "cell_type": "code",
   "execution_count": 43,
   "metadata": {},
   "outputs": [
    {
     "data": {
      "text/plain": [
       "<matplotlib.axes._subplots.AxesSubplot at 0x11874e7b8>"
      ]
     },
     "execution_count": 43,
     "metadata": {},
     "output_type": "execute_result"
    },
    {
     "data": {
      "image/png": "[encoded data removed]",
      "text/plain": [
       "<Figure size 432x288 with 1 Axes>"
      ]
     },
     "metadata": {
      "needs_background": "light"
     },
     "output_type": "display_data"
    }
   ],
   "source": [
    "import matplotlib.pyplot as plt\n",
    "%matplotlib inline\n",
    "df1['Score'].hist(bins=15)\n",
    "# RATING 5 HAS THE MOST NUMBER OF REVIEWS"
   ]
  },
  {
   "cell_type": "code",
   "execution_count": 53,
   "metadata": {},
   "outputs": [
    {
     "data": {
      "text/plain": [
       "<matplotlib.axes._subplots.AxesSubplot at 0x1199a5b70>"
      ]
     },
     "execution_count": 53,
     "metadata": {},
     "output_type": "execute_result"
    },
    {
     "data": {
      "image/png": "[encoded data removed]",
      "text/plain": [
       "<Figure size 432x288 with 1 Axes>"
      ]
     },
     "metadata": {
      "needs_background": "light"
     },
     "output_type": "display_data"
    }
   ],
   "source": [
    "df1[\"Count\"].hist(bins=15)  # select productID which has more than 2 reviews"
   ]
  },
  {
   "cell_type": "code",
   "execution_count": 60,
   "metadata": {},
   "outputs": [
    {
     "data": {
      "text/plain": [
       "(5810, 4)"
      ]
     },
     "execution_count": 60,
     "metadata": {},
     "output_type": "execute_result"
    }
   ],
   "source": [
    "#choose only products have over 2 reviews\n",
    "df1.sort_values(by='Count',ascending=False)\n",
    "df1.head()\n",
    "df2 = df1[df1.Count >= 2]\n",
    "df2.shape"
   ]
  },
  {
   "cell_type": "code",
   "execution_count": 89,
   "metadata": {},
   "outputs": [],
   "source": [
    "#create new dataframe as combining all summary with same product Id\n",
    "df4 = df2.groupby(\"ProductId\", as_index=False).mean() #mean score\n",
    "combine_summary = df2.groupby(\"ProductId\")[\"Summary\"].apply(list)\n",
    "combine_summary = pd.DataFrame(combine_summary)\n",
    "combine_summary.to_csv(\"combine_summary.csv\") #solve .lower apply to list problem"
   ]
  },
  {
   "cell_type": "code",
   "execution_count": 63,
   "metadata": {},
   "outputs": [
    {
     "data": {
      "text/html": [
       "<div>\n",
       "<style scoped>\n",
       "    .dataframe tbody tr th:only-of-type {\n",
       "        vertical-align: middle;\n",
       "    }\n",
       "\n",
       "    .dataframe tbody tr th {\n",
       "        vertical-align: top;\n",
       "    }\n",
       "\n",
       "    .dataframe thead th {\n",
       "        text-align: right;\n",
       "    }\n",
       "</style>\n",
       "<table border=\"1\" class=\"dataframe\">\n",
       "  <thead>\n",
       "    <tr style=\"text-align: right;\">\n",
       "      <th></th>\n",
       "      <th>ProductId</th>\n",
       "      <th>Score</th>\n",
       "      <th>Count</th>\n",
       "    </tr>\n",
       "  </thead>\n",
       "  <tbody>\n",
       "    <tr>\n",
       "      <th>0</th>\n",
       "      <td>B0000CCZYY</td>\n",
       "      <td>4.750000</td>\n",
       "      <td>8.0</td>\n",
       "    </tr>\n",
       "    <tr>\n",
       "      <th>1</th>\n",
       "      <td>B0000DID5Q</td>\n",
       "      <td>4.714286</td>\n",
       "      <td>7.0</td>\n",
       "    </tr>\n",
       "    <tr>\n",
       "      <th>2</th>\n",
       "      <td>B0000GHNT0</td>\n",
       "      <td>5.000000</td>\n",
       "      <td>8.0</td>\n",
       "    </tr>\n",
       "    <tr>\n",
       "      <th>3</th>\n",
       "      <td>B0000V8IOE</td>\n",
       "      <td>3.800000</td>\n",
       "      <td>5.0</td>\n",
       "    </tr>\n",
       "    <tr>\n",
       "      <th>4</th>\n",
       "      <td>B00014DAHU</td>\n",
       "      <td>4.125000</td>\n",
       "      <td>16.0</td>\n",
       "    </tr>\n",
       "  </tbody>\n",
       "</table>\n",
       "</div>"
      ],
      "text/plain": [
       "    ProductId     Score  Count\n",
       "0  B0000CCZYY  4.750000    8.0\n",
       "1  B0000DID5Q  4.714286    7.0\n",
       "2  B0000GHNT0  5.000000    8.0\n",
       "3  B0000V8IOE  3.800000    5.0\n",
       "4  B00014DAHU  4.125000   16.0"
      ]
     },
     "execution_count": 63,
     "metadata": {},
     "output_type": "execute_result"
    }
   ],
   "source": [
    "df4.head()"
   ]
  },
  {
   "cell_type": "code",
   "execution_count": 70,
   "metadata": {},
   "outputs": [
    {
     "data": {
      "text/html": [
       "<div>\n",
       "<style scoped>\n",
       "    .dataframe tbody tr th:only-of-type {\n",
       "        vertical-align: middle;\n",
       "    }\n",
       "\n",
       "    .dataframe tbody tr th {\n",
       "        vertical-align: top;\n",
       "    }\n",
       "\n",
       "    .dataframe thead th {\n",
       "        text-align: right;\n",
       "    }\n",
       "</style>\n",
       "<table border=\"1\" class=\"dataframe\">\n",
       "  <thead>\n",
       "    <tr style=\"text-align: right;\">\n",
       "      <th></th>\n",
       "      <th>Summary</th>\n",
       "    </tr>\n",
       "    <tr>\n",
       "      <th>ProductId</th>\n",
       "      <th></th>\n",
       "    </tr>\n",
       "  </thead>\n",
       "  <tbody>\n",
       "    <tr>\n",
       "      <th>B0000CCZYY</th>\n",
       "      <td>[I ordered 5 different licorices to do a taste...</td>\n",
       "    </tr>\n",
       "    <tr>\n",
       "      <th>B0000DID5Q</th>\n",
       "      <td>[This sauce is all kinds of hot, but not in th...</td>\n",
       "    </tr>\n",
       "    <tr>\n",
       "      <th>B0000GHNT0</th>\n",
       "      <td>[The title sums it up. I like spicy food, so I...</td>\n",
       "    </tr>\n",
       "    <tr>\n",
       "      <th>B0000V8IOE</th>\n",
       "      <td>[I really look forward to Saturday mornings wh...</td>\n",
       "    </tr>\n",
       "    <tr>\n",
       "      <th>B00014DAHU</th>\n",
       "      <td>[Live this tea but found it half the price in ...</td>\n",
       "    </tr>\n",
       "  </tbody>\n",
       "</table>\n",
       "</div>"
      ],
      "text/plain": [
       "                                                      Summary\n",
       "ProductId                                                    \n",
       "B0000CCZYY  [I ordered 5 different licorices to do a taste...\n",
       "B0000DID5Q  [This sauce is all kinds of hot, but not in th...\n",
       "B0000GHNT0  [The title sums it up. I like spicy food, so I...\n",
       "B0000V8IOE  [I really look forward to Saturday mornings wh...\n",
       "B00014DAHU  [Live this tea but found it half the price in ..."
      ]
     },
     "execution_count": 70,
     "metadata": {},
     "output_type": "execute_result"
    }
   ],
   "source": [
    "combine_summary.head()"
   ]
  },
  {
   "cell_type": "code",
   "execution_count": 170,
   "metadata": {},
   "outputs": [
    {
     "data": {
      "text/html": [
       "<div>\n",
       "<style scoped>\n",
       "    .dataframe tbody tr th:only-of-type {\n",
       "        vertical-align: middle;\n",
       "    }\n",
       "\n",
       "    .dataframe tbody tr th {\n",
       "        vertical-align: top;\n",
       "    }\n",
       "\n",
       "    .dataframe thead th {\n",
       "        text-align: right;\n",
       "    }\n",
       "</style>\n",
       "<table border=\"1\" class=\"dataframe\">\n",
       "  <thead>\n",
       "    <tr style=\"text-align: right;\">\n",
       "      <th></th>\n",
       "      <th>ProductId</th>\n",
       "      <th>Summary</th>\n",
       "      <th>Score</th>\n",
       "    </tr>\n",
       "  </thead>\n",
       "  <tbody>\n",
       "    <tr>\n",
       "      <th>0</th>\n",
       "      <td>B0000CCZYY</td>\n",
       "      <td>[\"I ordered 5 different licorices to do a tast...</td>\n",
       "      <td>4.750000</td>\n",
       "    </tr>\n",
       "    <tr>\n",
       "      <th>1</th>\n",
       "      <td>B0000DID5Q</td>\n",
       "      <td>[\"This sauce is all kinds of hot, but not in t...</td>\n",
       "      <td>4.714286</td>\n",
       "    </tr>\n",
       "    <tr>\n",
       "      <th>2</th>\n",
       "      <td>B0000GHNT0</td>\n",
       "      <td>['The title sums it up. I like spicy food, so ...</td>\n",
       "      <td>5.000000</td>\n",
       "    </tr>\n",
       "    <tr>\n",
       "      <th>3</th>\n",
       "      <td>B0000V8IOE</td>\n",
       "      <td>['I really look forward to Saturday mornings w...</td>\n",
       "      <td>3.800000</td>\n",
       "    </tr>\n",
       "    <tr>\n",
       "      <th>4</th>\n",
       "      <td>B00014DAHU</td>\n",
       "      <td>['Live this tea but found it half the price in...</td>\n",
       "      <td>4.125000</td>\n",
       "    </tr>\n",
       "  </tbody>\n",
       "</table>\n",
       "</div>"
      ],
      "text/plain": [
       "    ProductId                                            Summary     Score\n",
       "0  B0000CCZYY  [\"I ordered 5 different licorices to do a tast...  4.750000\n",
       "1  B0000DID5Q  [\"This sauce is all kinds of hot, but not in t...  4.714286\n",
       "2  B0000GHNT0  ['The title sums it up. I like spicy food, so ...  5.000000\n",
       "3  B0000V8IOE  ['I really look forward to Saturday mornings w...  3.800000\n",
       "4  B00014DAHU  ['Live this tea but found it half the price in...  4.125000"
      ]
     },
     "execution_count": 170,
     "metadata": {},
     "output_type": "execute_result"
    }
   ],
   "source": [
    "df3 = pd.read_csv(\"combine_summary.csv\")\n",
    "df3 = pd.merge(df3, df4, on=\"ProductId\", how='inner')\n",
    "df3 = df3[['ProductId','Summary','Score']]\n",
    "df3.head()"
   ]
  },
  {
   "cell_type": "markdown",
   "metadata": {},
   "source": [
    "## 1.3 Text Clean process - Summary column"
   ]
  },
  {
   "cell_type": "code",
   "execution_count": 171,
   "metadata": {},
   "outputs": [],
   "source": [
    "import nltk\n",
    "import re\n",
    "\n",
    "#function for tokenizing summary\n",
    "cleanup_re = re.compile('[^a-z]+') # re.compile是将正则表达式编译成一个对象，加快速度，并重复使用\n",
    "def cleanup(sentence):\n",
    "    sentence = sentence.lower()\n",
    "    sentence = cleanup_re.sub(' ', sentence).strip() #re.sub 字符串代替\n",
    "    sentence = \" \".join(nltk.word_tokenize(sentence))\n",
    "    return sentence"
   ]
  },
  {
   "cell_type": "code",
   "execution_count": 172,
   "metadata": {},
   "outputs": [
    {
     "data": {
      "text/html": [
       "<div>\n",
       "<style scoped>\n",
       "    .dataframe tbody tr th:only-of-type {\n",
       "        vertical-align: middle;\n",
       "    }\n",
       "\n",
       "    .dataframe tbody tr th {\n",
       "        vertical-align: top;\n",
       "    }\n",
       "\n",
       "    .dataframe thead th {\n",
       "        text-align: right;\n",
       "    }\n",
       "</style>\n",
       "<table border=\"1\" class=\"dataframe\">\n",
       "  <thead>\n",
       "    <tr style=\"text-align: right;\">\n",
       "      <th></th>\n",
       "      <th>ProductId</th>\n",
       "      <th>Summary</th>\n",
       "      <th>Score</th>\n",
       "      <th>Summary_Clean</th>\n",
       "    </tr>\n",
       "  </thead>\n",
       "  <tbody>\n",
       "    <tr>\n",
       "      <th>0</th>\n",
       "      <td>B0000CCZYY</td>\n",
       "      <td>[\"I ordered 5 different licorices to do a tast...</td>\n",
       "      <td>4.750000</td>\n",
       "      <td>i ordered different licorices to do a taste te...</td>\n",
       "    </tr>\n",
       "    <tr>\n",
       "      <th>1</th>\n",
       "      <td>B0000DID5Q</td>\n",
       "      <td>[\"This sauce is all kinds of hot, but not in t...</td>\n",
       "      <td>4.714286</td>\n",
       "      <td>this sauce is all kinds of hot but not in the ...</td>\n",
       "    </tr>\n",
       "    <tr>\n",
       "      <th>2</th>\n",
       "      <td>B0000GHNT0</td>\n",
       "      <td>['The title sums it up. I like spicy food, so ...</td>\n",
       "      <td>5.000000</td>\n",
       "      <td>the title sums it up i like spicy food so i us...</td>\n",
       "    </tr>\n",
       "    <tr>\n",
       "      <th>3</th>\n",
       "      <td>B0000V8IOE</td>\n",
       "      <td>['I really look forward to Saturday mornings w...</td>\n",
       "      <td>3.800000</td>\n",
       "      <td>i really look forward to saturday mornings whe...</td>\n",
       "    </tr>\n",
       "    <tr>\n",
       "      <th>4</th>\n",
       "      <td>B00014DAHU</td>\n",
       "      <td>['Live this tea but found it half the price in...</td>\n",
       "      <td>4.125000</td>\n",
       "      <td>live this tea but found it half the price in t...</td>\n",
       "    </tr>\n",
       "  </tbody>\n",
       "</table>\n",
       "</div>"
      ],
      "text/plain": [
       "    ProductId                                            Summary     Score  \\\n",
       "0  B0000CCZYY  [\"I ordered 5 different licorices to do a tast...  4.750000   \n",
       "1  B0000DID5Q  [\"This sauce is all kinds of hot, but not in t...  4.714286   \n",
       "2  B0000GHNT0  ['The title sums it up. I like spicy food, so ...  5.000000   \n",
       "3  B0000V8IOE  ['I really look forward to Saturday mornings w...  3.800000   \n",
       "4  B00014DAHU  ['Live this tea but found it half the price in...  4.125000   \n",
       "\n",
       "                                       Summary_Clean  \n",
       "0  i ordered different licorices to do a taste te...  \n",
       "1  this sauce is all kinds of hot but not in the ...  \n",
       "2  the title sums it up i like spicy food so i us...  \n",
       "3  i really look forward to saturday mornings whe...  \n",
       "4  live this tea but found it half the price in t...  "
      ]
     },
     "execution_count": 172,
     "metadata": {},
     "output_type": "execute_result"
    }
   ],
   "source": [
    "df3[\"Summary_Clean\"] = df3[\"Summary\"].apply(cleanup)\n",
    "df3.head()"
   ]
  },
  {
   "cell_type": "code",
   "execution_count": 390,
   "metadata": {},
   "outputs": [],
   "source": [
    "from sklearn.feature_extraction.text import CountVectorizer, TfidfTransformer \n",
    "from pandas import DataFrame \n",
    "\n",
    "docs = df3[\"Summary_Clean\"] \n",
    "vect = CountVectorizer(max_features = 100, stop_words='english')\n",
    "X = vect.fit_transform(docs) \n",
    "\n",
    "df5 = DataFrame(X.A, columns=vect.get_feature_names())\n",
    "df5 = df5.astype(int)"
   ]
  },
  {
   "cell_type": "code",
   "execution_count": 392,
   "metadata": {},
   "outputs": [
    {
     "data": {
      "text/html": [
       "<div>\n",
       "<style scoped>\n",
       "    .dataframe tbody tr th:only-of-type {\n",
       "        vertical-align: middle;\n",
       "    }\n",
       "\n",
       "    .dataframe tbody tr th {\n",
       "        vertical-align: top;\n",
       "    }\n",
       "\n",
       "    .dataframe thead th {\n",
       "        text-align: right;\n",
       "    }\n",
       "</style>\n",
       "<table border=\"1\" class=\"dataframe\">\n",
       "  <thead>\n",
       "    <tr style=\"text-align: right;\">\n",
       "      <th></th>\n",
       "      <th>add</th>\n",
       "      <th>amazon</th>\n",
       "      <th>bad</th>\n",
       "      <th>bag</th>\n",
       "      <th>bags</th>\n",
       "      <th>best</th>\n",
       "      <th>better</th>\n",
       "      <th>bit</th>\n",
       "      <th>bought</th>\n",
       "      <th>box</th>\n",
       "      <th>...</th>\n",
       "      <th>try</th>\n",
       "      <th>use</th>\n",
       "      <th>used</th>\n",
       "      <th>using</th>\n",
       "      <th>ve</th>\n",
       "      <th>want</th>\n",
       "      <th>water</th>\n",
       "      <th>way</th>\n",
       "      <th>wheat</th>\n",
       "      <th>years</th>\n",
       "    </tr>\n",
       "  </thead>\n",
       "  <tbody>\n",
       "    <tr>\n",
       "      <th>0</th>\n",
       "      <td>0</td>\n",
       "      <td>1</td>\n",
       "      <td>0</td>\n",
       "      <td>0</td>\n",
       "      <td>0</td>\n",
       "      <td>3</td>\n",
       "      <td>1</td>\n",
       "      <td>0</td>\n",
       "      <td>0</td>\n",
       "      <td>1</td>\n",
       "      <td>...</td>\n",
       "      <td>0</td>\n",
       "      <td>0</td>\n",
       "      <td>0</td>\n",
       "      <td>1</td>\n",
       "      <td>2</td>\n",
       "      <td>0</td>\n",
       "      <td>0</td>\n",
       "      <td>0</td>\n",
       "      <td>1</td>\n",
       "      <td>0</td>\n",
       "    </tr>\n",
       "    <tr>\n",
       "      <th>1</th>\n",
       "      <td>1</td>\n",
       "      <td>0</td>\n",
       "      <td>2</td>\n",
       "      <td>0</td>\n",
       "      <td>0</td>\n",
       "      <td>0</td>\n",
       "      <td>0</td>\n",
       "      <td>1</td>\n",
       "      <td>2</td>\n",
       "      <td>0</td>\n",
       "      <td>...</td>\n",
       "      <td>1</td>\n",
       "      <td>7</td>\n",
       "      <td>0</td>\n",
       "      <td>3</td>\n",
       "      <td>0</td>\n",
       "      <td>1</td>\n",
       "      <td>3</td>\n",
       "      <td>3</td>\n",
       "      <td>0</td>\n",
       "      <td>0</td>\n",
       "    </tr>\n",
       "    <tr>\n",
       "      <th>2</th>\n",
       "      <td>1</td>\n",
       "      <td>0</td>\n",
       "      <td>0</td>\n",
       "      <td>0</td>\n",
       "      <td>0</td>\n",
       "      <td>2</td>\n",
       "      <td>0</td>\n",
       "      <td>0</td>\n",
       "      <td>1</td>\n",
       "      <td>0</td>\n",
       "      <td>...</td>\n",
       "      <td>0</td>\n",
       "      <td>2</td>\n",
       "      <td>1</td>\n",
       "      <td>1</td>\n",
       "      <td>1</td>\n",
       "      <td>0</td>\n",
       "      <td>0</td>\n",
       "      <td>0</td>\n",
       "      <td>0</td>\n",
       "      <td>0</td>\n",
       "    </tr>\n",
       "    <tr>\n",
       "      <th>3</th>\n",
       "      <td>0</td>\n",
       "      <td>1</td>\n",
       "      <td>1</td>\n",
       "      <td>7</td>\n",
       "      <td>0</td>\n",
       "      <td>2</td>\n",
       "      <td>7</td>\n",
       "      <td>1</td>\n",
       "      <td>6</td>\n",
       "      <td>1</td>\n",
       "      <td>...</td>\n",
       "      <td>3</td>\n",
       "      <td>2</td>\n",
       "      <td>1</td>\n",
       "      <td>0</td>\n",
       "      <td>1</td>\n",
       "      <td>1</td>\n",
       "      <td>1</td>\n",
       "      <td>1</td>\n",
       "      <td>0</td>\n",
       "      <td>1</td>\n",
       "    </tr>\n",
       "    <tr>\n",
       "      <th>4</th>\n",
       "      <td>0</td>\n",
       "      <td>0</td>\n",
       "      <td>0</td>\n",
       "      <td>2</td>\n",
       "      <td>0</td>\n",
       "      <td>0</td>\n",
       "      <td>0</td>\n",
       "      <td>0</td>\n",
       "      <td>0</td>\n",
       "      <td>0</td>\n",
       "      <td>...</td>\n",
       "      <td>0</td>\n",
       "      <td>4</td>\n",
       "      <td>2</td>\n",
       "      <td>0</td>\n",
       "      <td>0</td>\n",
       "      <td>0</td>\n",
       "      <td>0</td>\n",
       "      <td>2</td>\n",
       "      <td>0</td>\n",
       "      <td>0</td>\n",
       "    </tr>\n",
       "  </tbody>\n",
       "</table>\n",
       "<p>5 rows × 100 columns</p>\n",
       "</div>"
      ],
      "text/plain": [
       "   add  amazon  bad  bag  bags  best  better  bit  bought  box  ...  try  use  \\\n",
       "0    0       1    0    0     0     3       1    0       0    1  ...    0    0   \n",
       "1    1       0    2    0     0     0       0    1       2    0  ...    1    7   \n",
       "2    1       0    0    0     0     2       0    0       1    0  ...    0    2   \n",
       "3    0       1    1    7     0     2       7    1       6    1  ...    3    2   \n",
       "4    0       0    0    2     0     0       0    0       0    0  ...    0    4   \n",
       "\n",
       "   used  using  ve  want  water  way  wheat  years  \n",
       "0     0      1   2     0      0    0      1      0  \n",
       "1     0      3   0     1      3    3      0      0  \n",
       "2     1      1   1     0      0    0      0      0  \n",
       "3     1      0   1     1      1    1      0      1  \n",
       "4     2      0   0     0      0    2      0      0  \n",
       "\n",
       "[5 rows x 100 columns]"
      ]
     },
     "execution_count": 392,
     "metadata": {},
     "output_type": "execute_result"
    }
   ],
   "source": [
    "df5.head()"
   ]
  },
  {
   "cell_type": "markdown",
   "metadata": {},
   "source": [
    "# 2. KNN (Content-Based Recommender based on Review)"
   ]
  },
  {
   "cell_type": "markdown",
   "metadata": {},
   "source": [
    " ## 2.1 KNN classifier to find similar products"
   ]
  },
  {
   "cell_type": "code",
   "execution_count": 393,
   "metadata": {},
   "outputs": [],
   "source": [
    "# First let's create a dataset called X\n",
    "X = np.array(df5)\n",
    " # create train and test\n",
    "tpercent = 0.9\n",
    "tsize = int(np.floor(tpercent * len(df5)))\n",
    "df5_train = X[:tsize]\n",
    "df5_test = X[tsize:]\n",
    "#len of train and test\n",
    "lentrain = len(df5_train)\n",
    "lentest = len(df5_test)"
   ]
  },
  {
   "cell_type": "code",
   "execution_count": 394,
   "metadata": {},
   "outputs": [
    {
     "data": {
      "text/plain": [
       "(670, 100)"
      ]
     },
     "execution_count": 394,
     "metadata": {},
     "output_type": "execute_result"
    }
   ],
   "source": [
    "tsize #670\n",
    "type(df5)\n",
    "df5[0:670].shape"
   ]
  },
  {
   "cell_type": "code",
   "execution_count": 395,
   "metadata": {},
   "outputs": [],
   "source": [
    "from sklearn.neighbors import NearestNeighbors\n",
    "\n",
    "# Next we will instantiate a nearest neighbor object, and call it nbrs. Then we will fit it to dataset X.\n",
    "nbrs = NearestNeighbors(n_neighbors=3, algorithm='ball_tree').fit(df5_train)\n",
    "\n",
    "# Let's find the k-neighbors of each point in object X. To do that we call the kneighbors() function on object X.\n",
    "distances, indices = nbrs.kneighbors(df5_train)  "
   ]
  },
  {
   "cell_type": "code",
   "execution_count": 396,
   "metadata": {},
   "outputs": [
    {
     "name": "stdout",
     "output_type": "stream",
     "text": [
      "Based on product reviews, for  B004K69OMU  and this average Score is  5.0\n",
      "The first similar product is  B00014G43W  and this average Score is  5.0\n",
      "The second similar product is  B000EY5COG  and this average Score is  5.0\n",
      "-----------------------------------------------------------\n",
      "Based on product reviews, for  B004K6F1Z4  and this average Score is  4.75\n",
      "The first similar product is  B000MXGMJI  and this average Score is  3.857142857142857\n",
      "The second similar product is  B000MXENE4  and this average Score is  3.857142857142857\n",
      "-----------------------------------------------------------\n",
      "Based on product reviews, for  B004LKDDXQ  and this average Score is  5.0\n",
      "The first similar product is  B0017U08SQ  and this average Score is  4.0\n",
      "The second similar product is  B003DXGN70  and this average Score is  4.0\n",
      "-----------------------------------------------------------\n",
      "Based on product reviews, for  B004M3IXZU  and this average Score is  4.375\n",
      "The first similar product is  B000FDOUXA  and this average Score is  4.875\n",
      "The second similar product is  B001E50X66  and this average Score is  4.5\n",
      "-----------------------------------------------------------\n",
      "Based on product reviews, for  B004MO6NI8  and this average Score is  4.857142857142857\n",
      "The first similar product is  B000KOWJQE  and this average Score is  4.875\n",
      "The second similar product is  B003IHO8NC  and this average Score is  3.875\n",
      "-----------------------------------------------------------\n",
      "Based on product reviews, for  B004N5DHDU  and this average Score is  4.375\n",
      "The first similar product is  B0031UBVX6  and this average Score is  4.166666666666667\n",
      "The second similar product is  B000GZSDSA  and this average Score is  4.875\n",
      "-----------------------------------------------------------\n",
      "Based on product reviews, for  B004N5FG66  and this average Score is  4.5\n",
      "The first similar product is  B001EO5XSA  and this average Score is  5.0\n",
      "The second similar product is  B000LKZCQQ  and this average Score is  5.0\n",
      "-----------------------------------------------------------\n",
      "Based on product reviews, for  B004N5UL3O  and this average Score is  3.5\n",
      "The first similar product is  B0018MUNEW  and this average Score is  1.0\n",
      "The second similar product is  B001E8HSAM  and this average Score is  4.75\n",
      "-----------------------------------------------------------\n",
      "Based on product reviews, for  B004NRHAZ4  and this average Score is  5.0\n",
      "The first similar product is  B0010AR1E2  and this average Score is  4.125\n",
      "The second similar product is  B000ER5DCY  and this average Score is  4.857142857142857\n",
      "-----------------------------------------------------------\n",
      "Based on product reviews, for  B004PZUV5U  and this average Score is  1.4285714285714286\n",
      "The first similar product is  B000MGOZEO  and this average Score is  3.2857142857142856\n",
      "The second similar product is  B000E123N2  and this average Score is  3.4285714285714284\n",
      "-----------------------------------------------------------\n",
      "Based on product reviews, for  B004R6BJ62  and this average Score is  4.0\n",
      "The first similar product is  B0005XO85A  and this average Score is  4.428571428571429\n",
      "The second similar product is  B003TWBUWI  and this average Score is  4.375\n",
      "-----------------------------------------------------------\n",
      "Based on product reviews, for  B004SKVWNW  and this average Score is  4.75\n",
      "The first similar product is  B001O8WHZS  and this average Score is  4.875\n",
      "The second similar product is  B0017WFN98  and this average Score is  4.0\n",
      "-----------------------------------------------------------\n",
      "Based on product reviews, for  B004TH09WE  and this average Score is  5.0\n",
      "The first similar product is  B0014ATS08  and this average Score is  4.875\n",
      "The second similar product is  B002NVZDR4  and this average Score is  5.0\n",
      "-----------------------------------------------------------\n",
      "Based on product reviews, for  B004TJD72Q  and this average Score is  4.285714285714286\n",
      "The first similar product is  B002831C4K  and this average Score is  4.0\n",
      "The second similar product is  B001EQ5RHA  and this average Score is  4.25\n",
      "-----------------------------------------------------------\n",
      "Based on product reviews, for  B004TPKAN4  and this average Score is  3.375\n",
      "The first similar product is  B00213ERI0  and this average Score is  4.125\n",
      "The second similar product is  B002AU3K1E  and this average Score is  4.125\n",
      "-----------------------------------------------------------\n",
      "Based on product reviews, for  B004TPWSEI  and this average Score is  4.75\n",
      "The first similar product is  B003TEEKW8  and this average Score is  4.5\n",
      "The second similar product is  B000FKAYO2  and this average Score is  5.0\n",
      "-----------------------------------------------------------\n",
      "Based on product reviews, for  B004TTSB2C  and this average Score is  4.625\n",
      "The first similar product is  B004I19B8E  and this average Score is  5.0\n",
      "The second similar product is  B003I5A5IG  and this average Score is  4.666666666666667\n",
      "-----------------------------------------------------------\n",
      "Based on product reviews, for  B004UB6G9O  and this average Score is  4.625\n",
      "The first similar product is  B0017I9P3W  and this average Score is  4.857142857142857\n",
      "The second similar product is  B000ER5DFQ  and this average Score is  1.2\n",
      "-----------------------------------------------------------\n",
      "Based on product reviews, for  B004VLVN6Y  and this average Score is  4.25\n",
      "The first similar product is  B000KNB0OW  and this average Score is  3.25\n",
      "The second similar product is  B003DMVFHY  and this average Score is  3.25\n",
      "-----------------------------------------------------------\n",
      "Based on product reviews, for  B004XGCXAC  and this average Score is  4.5\n",
      "The first similar product is  B001B2SRF6  and this average Score is  4.625\n",
      "The second similar product is  B000168QTU  and this average Score is  4.571428571428571\n",
      "-----------------------------------------------------------\n",
      "Based on product reviews, for  B004YN7XKY  and this average Score is  3.25\n",
      "The first similar product is  B0018S09T0  and this average Score is  3.5714285714285716\n",
      "The second similar product is  B0046HHNY4  and this average Score is  4.25\n",
      "-----------------------------------------------------------\n",
      "Based on product reviews, for  B004ZIER34  and this average Score is  4.25\n",
      "The first similar product is  B001EO5NIA  and this average Score is  4.5\n",
      "The second similar product is  B001F1YU8Q  and this average Score is  4.625\n",
      "-----------------------------------------------------------\n",
      "Based on product reviews, for  B00501N8B2  and this average Score is  3.875\n",
      "The first similar product is  B000KNDF7M  and this average Score is  3.875\n",
      "The second similar product is  B0014B0HWK  and this average Score is  4.5\n",
      "-----------------------------------------------------------\n",
      "Based on product reviews, for  B00503DOWS  and this average Score is  3.625\n",
      "The first similar product is  B000K8Z2AA  and this average Score is  3.875\n",
      "The second similar product is  B001PQNV6S  and this average Score is  4.285714285714286\n",
      "-----------------------------------------------------------\n",
      "Based on product reviews, for  B00503DOXW  and this average Score is  3.625\n",
      "The first similar product is  B000K8Z2AA  and this average Score is  3.875\n",
      "The second similar product is  B001PQNV6S  and this average Score is  4.285714285714286\n",
      "-----------------------------------------------------------\n",
      "Based on product reviews, for  B00503DP0O  and this average Score is  3.625\n",
      "The first similar product is  B000K8Z2AA  and this average Score is  3.875\n",
      "The second similar product is  B001PQNV6S  and this average Score is  4.285714285714286\n",
      "-----------------------------------------------------------\n",
      "Based on product reviews, for  B0050J6Q2M  and this average Score is  5.0\n",
      "The first similar product is  B001GB0U2K  and this average Score is  4.875\n",
      "The second similar product is  B001GVIS6K  and this average Score is  4.5\n",
      "-----------------------------------------------------------\n",
      "Based on product reviews, for  B0051COPH6  and this average Score is  3.2857142857142856\n",
      "The first similar product is  B000E123N2  and this average Score is  3.4285714285714284\n",
      "The second similar product is  B000MXENE4  and this average Score is  3.857142857142857\n",
      "-----------------------------------------------------------\n",
      "Based on product reviews, for  B0052OUAOK  and this average Score is  3.75\n",
      "The first similar product is  B002NHYQAS  and this average Score is  5.0\n",
      "The second similar product is  B000ED7M2W  and this average Score is  3.1666666666666665\n",
      "-----------------------------------------------------------\n",
      "Based on product reviews, for  B0052XJUBA  and this average Score is  5.0\n",
      "The first similar product is  B000FBO9MO  and this average Score is  4.333333333333333\n",
      "The second similar product is  B004I19B8E  and this average Score is  5.0\n",
      "-----------------------------------------------------------\n",
      "Based on product reviews, for  B0054KCZJU  and this average Score is  4.5\n",
      "The first similar product is  B004I19B8E  and this average Score is  5.0\n",
      "The second similar product is  B000LBW62I  and this average Score is  3.0\n",
      "-----------------------------------------------------------\n",
      "Based on product reviews, for  B0054S0P9E  and this average Score is  4.875\n",
      "The first similar product is  B000EDGBF6  and this average Score is  3.0\n",
      "The second similar product is  B000EDGB2E  and this average Score is  3.0\n",
      "-----------------------------------------------------------\n",
      "Based on product reviews, for  B0054TWQMM  and this average Score is  4.625\n",
      "The first similar product is  B0043OGJK4  and this average Score is  3.0\n",
      "The second similar product is  B0040WHKG6  and this average Score is  3.75\n",
      "-----------------------------------------------------------\n",
      "Based on product reviews, for  B005A5JHGI  and this average Score is  5.0\n",
      "The first similar product is  B000EMAMYS  and this average Score is  4.375\n",
      "The second similar product is  B000165LO8  and this average Score is  4.875\n",
      "-----------------------------------------------------------\n",
      "Based on product reviews, for  B005BPVE3G  and this average Score is  3.5\n",
      "The first similar product is  B004BKLHOS  and this average Score is  5.0\n",
      "The second similar product is  B000E46GGO  and this average Score is  3.4285714285714284\n",
      "-----------------------------------------------------------\n",
      "Based on product reviews, for  B005BPVHN8  and this average Score is  4.25\n",
      "The first similar product is  B001D3QN4K  and this average Score is  4.375\n",
      "The second similar product is  B000GZSDSA  and this average Score is  4.875\n",
      "-----------------------------------------------------------\n",
      "Based on product reviews, for  B005CD3L7Y  and this average Score is  4.666666666666667\n",
      "The first similar product is  B001R7VT7S  and this average Score is  4.375\n",
      "The second similar product is  B000AYDHYW  and this average Score is  4.75\n",
      "-----------------------------------------------------------\n",
      "Based on product reviews, for  B005CRVJ38  and this average Score is  4.5\n",
      "The first similar product is  B004I19B8E  and this average Score is  5.0\n",
      "The second similar product is  B001KVPC0G  and this average Score is  4.75\n",
      "-----------------------------------------------------------\n",
      "Based on product reviews, for  B005DFL4PM  and this average Score is  4.8\n",
      "The first similar product is  B000HQNBSU  and this average Score is  3.625\n",
      "The second similar product is  B000E3C3QW  and this average Score is  5.0\n",
      "-----------------------------------------------------------\n",
      "Based on product reviews, for  B005DM3IBI  and this average Score is  4.875\n",
      "The first similar product is  B0000GHNT0  and this average Score is  5.0\n",
      "The second similar product is  B0007WUOUM  and this average Score is  4.875\n",
      "-----------------------------------------------------------\n",
      "Based on product reviews, for  B005FC6S40  and this average Score is  5.0\n",
      "The first similar product is  B000LKYM12  and this average Score is  4.75\n",
      "The second similar product is  B000SU201O  and this average Score is  3.75\n",
      "-----------------------------------------------------------\n",
      "Based on product reviews, for  B005GWWGOU  and this average Score is  3.875\n",
      "The first similar product is  B000KNDF7M  and this average Score is  3.875\n",
      "The second similar product is  B0014B0HWK  and this average Score is  4.5\n",
      "-----------------------------------------------------------\n",
      "Based on product reviews, for  B005HUWARY  and this average Score is  5.0\n",
      "The first similar product is  B0046H71YQ  and this average Score is  4.875\n",
      "The second similar product is  B000E123N2  and this average Score is  3.4285714285714284\n",
      "-----------------------------------------------------------\n",
      "Based on product reviews, for  B005IW4WFY  and this average Score is  4.75\n",
      "The first similar product is  B004I8GT5K  and this average Score is  4.0\n",
      "The second similar product is  B000R3P3S4  and this average Score is  4.5\n",
      "-----------------------------------------------------------\n",
      "Based on product reviews, for  B005LNA5VK  and this average Score is  4.0\n",
      "The first similar product is  B001TH64MQ  and this average Score is  3.875\n",
      "The second similar product is  B000LBW62I  and this average Score is  3.0\n",
      "-----------------------------------------------------------\n",
      "Based on product reviews, for  B005M1LV6Y  and this average Score is  4.625\n",
      "The first similar product is  B001ELL3DM  and this average Score is  4.625\n",
      "The second similar product is  B001E5E074  and this average Score is  4.125\n",
      "-----------------------------------------------------------\n",
      "Based on product reviews, for  B005MWAM72  and this average Score is  3.875\n",
      "The first similar product is  B001EQ55E0  and this average Score is  4.875\n",
      "The second similar product is  B001E50X66  and this average Score is  4.5\n",
      "-----------------------------------------------------------\n",
      "Based on product reviews, for  B005OVPKCI  and this average Score is  4.857142857142857\n",
      "The first similar product is  B000LKYX48  and this average Score is  4.875\n",
      "The second similar product is  B001E5E060  and this average Score is  4.4\n",
      "-----------------------------------------------------------\n",
      "Based on product reviews, for  B005P0I7T6  and this average Score is  4.5\n",
      "The first similar product is  B0005XO85A  and this average Score is  4.428571428571429\n",
      "The second similar product is  B003IHO8NC  and this average Score is  3.875\n",
      "-----------------------------------------------------------\n",
      "Based on product reviews, for  B006BXUYN8  and this average Score is  4.0\n",
      "The first similar product is  B002C55XQ2  and this average Score is  5.0\n",
      "The second similar product is  B001EPPOII  and this average Score is  3.3333333333333335\n",
      "-----------------------------------------------------------\n",
      "Based on product reviews, for  B006J4MAIQ  and this average Score is  4.625\n",
      "The first similar product is  B0017I9P3W  and this average Score is  4.857142857142857\n",
      "The second similar product is  B00020HHRW  and this average Score is  4.833333333333333\n",
      "-----------------------------------------------------------\n",
      "Based on product reviews, for  B006J4MAUE  and this average Score is  4.625\n",
      "The first similar product is  B001P1YWWK  and this average Score is  5.0\n",
      "The second similar product is  B0007LXU9A  and this average Score is  4.875\n",
      "-----------------------------------------------------------\n",
      "Based on product reviews, for  B006MONQMC  and this average Score is  3.5\n",
      "The first similar product is  B0043OGJK4  and this average Score is  3.0\n",
      "The second similar product is  B001O3U7AK  and this average Score is  4.25\n",
      "-----------------------------------------------------------\n",
      "Based on product reviews, for  B006NZHCJI  and this average Score is  4.875\n",
      "The first similar product is  B001U6888O  and this average Score is  2.8\n",
      "The second similar product is  B000ETAJZ8  and this average Score is  3.5\n",
      "-----------------------------------------------------------\n",
      "Based on product reviews, for  B007788AZA  and this average Score is  4.25\n",
      "The first similar product is  B000LBW62I  and this average Score is  3.0\n",
      "The second similar product is  B0049USYXW  and this average Score is  4.875\n",
      "-----------------------------------------------------------\n",
      "Based on product reviews, for  B0078DU28C  and this average Score is  5.0\n",
      "The first similar product is  B000FDOUWQ  and this average Score is  4.875\n",
      "The second similar product is  B000LKV4LS  and this average Score is  4.0\n",
      "-----------------------------------------------------------\n",
      "Based on product reviews, for  B007B9YQ62  and this average Score is  3.625\n",
      "The first similar product is  B000LKYNIE  and this average Score is  4.625\n",
      "The second similar product is  B003KLT05C  and this average Score is  4.285714285714286\n",
      "-----------------------------------------------------------\n",
      "Based on product reviews, for  B007FK3HHG  and this average Score is  3.875\n",
      "The first similar product is  B000E123N2  and this average Score is  3.4285714285714284\n",
      "The second similar product is  B0040WHKG6  and this average Score is  3.75\n",
      "-----------------------------------------------------------\n",
      "Based on product reviews, for  B007GYQ6LA  and this average Score is  3.0\n",
      "The first similar product is  B000EDGBF6  and this average Score is  3.0\n",
      "The second similar product is  B000EDGB2E  and this average Score is  3.0\n",
      "-----------------------------------------------------------\n",
      "Based on product reviews, for  B007HOWZJQ  and this average Score is  3.75\n",
      "The first similar product is  B0012FZMQO  and this average Score is  4.6\n",
      "The second similar product is  B000FMTJJQ  and this average Score is  4.875\n",
      "-----------------------------------------------------------\n",
      "Based on product reviews, for  B007HQOVBO  and this average Score is  2.625\n",
      "The first similar product is  B0017OE536  and this average Score is  4.5\n",
      "The second similar product is  B000E123N2  and this average Score is  3.4285714285714284\n",
      "-----------------------------------------------------------\n",
      "Based on product reviews, for  B007M8FRV0  and this average Score is  4.5\n",
      "The first similar product is  B0009F3SBY  and this average Score is  5.0\n",
      "The second similar product is  B002UPZ51C  and this average Score is  4.571428571428571\n",
      "-----------------------------------------------------------\n",
      "Based on product reviews, for  B007PE7ANY  and this average Score is  3.0\n",
      "The first similar product is  B002QM9CTA  and this average Score is  3.875\n",
      "The second similar product is  B0007LXU9A  and this average Score is  4.875\n",
      "-----------------------------------------------------------\n",
      "Based on product reviews, for  B007R1PGVS  and this average Score is  4.75\n",
      "The first similar product is  B001E8HSAM  and this average Score is  4.75\n",
      "The second similar product is  B002AR158W  and this average Score is  4.75\n",
      "-----------------------------------------------------------\n",
      "Based on product reviews, for  B007TGO1TY  and this average Score is  3.875\n",
      "The first similar product is  B0013P3KC6  and this average Score is  3.5\n",
      "The second similar product is  B000FMTJJQ  and this average Score is  4.875\n",
      "-----------------------------------------------------------\n",
      "Based on product reviews, for  B007XC4LEO  and this average Score is  4.333333333333333\n",
      "The first similar product is  B001KQAR24  and this average Score is  4.875\n",
      "The second similar product is  B003VXE46Y  and this average Score is  4.75\n",
      "-----------------------------------------------------------\n"
     ]
    },
    {
     "name": "stdout",
     "output_type": "stream",
     "text": [
      "Based on product reviews, for  B008ATDIDE  and this average Score is  4.0\n",
      "The first similar product is  B001E5E08S  and this average Score is  4.0\n",
      "The second similar product is  B000LKYNIE  and this average Score is  4.625\n",
      "-----------------------------------------------------------\n",
      "Based on product reviews, for  B008BY7O9W  and this average Score is  4.8\n",
      "The first similar product is  B000HQNBSU  and this average Score is  3.625\n",
      "The second similar product is  B000E3C3QW  and this average Score is  5.0\n",
      "-----------------------------------------------------------\n",
      "Based on product reviews, for  B008CTBK7S  and this average Score is  5.0\n",
      "The first similar product is  B000EJPDFY  and this average Score is  4.625\n",
      "The second similar product is  B000R3P3S4  and this average Score is  4.5\n",
      "-----------------------------------------------------------\n",
      "Based on product reviews, for  B008EM51FA  and this average Score is  5.0\n",
      "The first similar product is  B0014ATS08  and this average Score is  4.875\n",
      "The second similar product is  B00032IEXU  and this average Score is  4.25\n",
      "-----------------------------------------------------------\n",
      "Based on product reviews, for  B008FCAT1A  and this average Score is  5.0\n",
      "The first similar product is  B000FBO9MO  and this average Score is  4.333333333333333\n",
      "The second similar product is  B000LKTWHQ  and this average Score is  5.0\n",
      "-----------------------------------------------------------\n",
      "Based on product reviews, for  B008JKTH2A  and this average Score is  4.25\n",
      "The first similar product is  B0013L92Y0  and this average Score is  4.125\n",
      "The second similar product is  B000LKYNIE  and this average Score is  4.625\n",
      "-----------------------------------------------------------\n",
      "Based on product reviews, for  B008JKTTUA  and this average Score is  5.0\n",
      "The first similar product is  B004HOQDK6  and this average Score is  4.875\n",
      "The second similar product is  B000R3P3S4  and this average Score is  4.5\n",
      "-----------------------------------------------------------\n",
      "Based on product reviews, for  B008MPC2LK  and this average Score is  4.625\n",
      "The first similar product is  B000LKX1HI  and this average Score is  4.625\n",
      "The second similar product is  B000HDI5OS  and this average Score is  4.5\n",
      "-----------------------------------------------------------\n",
      "Based on product reviews, for  B0094C0Q8Q  and this average Score is  4.125\n",
      "The first similar product is  B0027E4ROW  and this average Score is  4.125\n",
      "The second similar product is  B000FPGYT6  and this average Score is  4.125\n",
      "-----------------------------------------------------------\n"
     ]
    }
   ],
   "source": [
    " #find most related products\n",
    "for i in range(lentest):\n",
    "    a = nbrs.kneighbors([df5_test[i]])\n",
    "    related_product_list = a[1]\n",
    "    \n",
    "    first_related_product = [item[0] for item in related_product_list]\n",
    "    first_related_product = str(first_related_product).strip('[]')\n",
    "    first_related_product = int(first_related_product)\n",
    "    second_related_product = [item[1] for item in related_product_list]\n",
    "    second_related_product = str(second_related_product).strip('[]')\n",
    "    second_related_product = int(second_related_product)\n",
    "    \n",
    "    print (\"Based on product reviews, for \", df3[\"ProductId\"][lentrain + i] ,\" and this average Score is \",df3[\"Score\"][lentrain + i])\n",
    "    print (\"The first similar product is \", df3[\"ProductId\"][first_related_product] ,\" and this average Score is \",df3[\"Score\"][first_related_product])\n",
    "    print (\"The second similar product is \", df3[\"ProductId\"][second_related_product] ,\" and this average Score is \",df3[\"Score\"][second_related_product])\n",
    "    print (\"-----------------------------------------------------------\")"
   ]
  },
  {
   "cell_type": "code",
   "execution_count": 398,
   "metadata": {},
   "outputs": [
    {
     "data": {
      "text/plain": [
       "[677]"
      ]
     },
     "execution_count": 398,
     "metadata": {},
     "output_type": "execute_result"
    }
   ],
   "source": [
    "df3.index[df3['ProductId'] == \"B004N5UL3O\"].tolist()"
   ]
  },
  {
   "cell_type": "markdown",
   "metadata": {},
   "source": [
    "## 2.2 Predicting Review Score (KNN with Cosine similarity)"
   ]
  },
  {
   "cell_type": "code",
   "execution_count": 469,
   "metadata": {},
   "outputs": [],
   "source": [
    "X = np.array(df5)\n",
    " # create train and test\n",
    "tpercent = 0.9\n",
    "tsize = int(np.floor(tpercent * len(df5)))\n",
    "df5_train = X[:tsize]\n",
    "df5_test = X[tsize:]\n",
    "#len of train and test\n",
    "lentrain = len(df5_train)\n",
    "lentest = len(df5_test)"
   ]
  },
  {
   "cell_type": "code",
   "execution_count": 476,
   "metadata": {},
   "outputs": [],
   "source": [
    "df5_train_target = df3[\"Score\"][:lentrain]\n",
    "df5_test_target = df3[\"Score\"][lentrain:lentrain+lentest]\n",
    "df5_train_target = df5_train_target.astype(int)\n",
    "df5_test_target = df5_test_target.astype(int)"
   ]
  },
  {
   "cell_type": "code",
   "execution_count": 477,
   "metadata": {},
   "outputs": [
    {
     "name": "stdout",
     "output_type": "stream",
     "text": [
      "[5 4 4 4 4 4 4 4 4 3 4 4 4 4 4 4 4 3 3 4 3 4 3 3 3 3 4 3 3 4 4 4 4 4 4 4 4\n",
      " 4 4 4 4 3 4 4 4 4 4 4 4 4 4 4 3 4 3 4 4 4 3 4 4 4 4 4 4 4 4 4 4 4 4 4 4 4\n",
      " 4]\n"
     ]
    }
   ],
   "source": [
    "from sklearn import neighbors\n",
    "#The similarity measure was cosine similarity and the number of the desired neighbors was ten.\n",
    "n_neighbors = 17 #max\n",
    "knnclf = neighbors.KNeighborsClassifier(n_neighbors, weights='distance',metric='cosine',algorithm='brute') #Cosine Distance=1−Cosine Similarity\n",
    "knnclf.fit(df5_train, df5_train_target)\n",
    "knnpreds_test = knnclf.predict(df5_test)\n",
    "print (knnpreds_test)\n",
    "#在某些情况下，更近的数据点对模型的贡献更大，可以通过参数 weights 来设置。默认情况下，weights=‘uniform’，\n",
    "#所有邻居的权重是相同的。weights=‘distance’ ，权重正比于到查询点的距离的倒数。"
   ]
  },
  {
   "cell_type": "code",
   "execution_count": 472,
   "metadata": {},
   "outputs": [
    {
     "data": {
      "text/plain": [
       "(array([[  1, 407, 175, ..., 389, 447, 477],\n",
       "        [  2, 349,  33, ..., 593, 335,  16],\n",
       "        [  3, 538,  33, ..., 477, 431,  16],\n",
       "        ...,\n",
       "        [668, 394, 341, ..., 425, 262, 614],\n",
       "        [669, 251,  56, ..., 277, 590, 545],\n",
       "        [670, 530, 560, ..., 614, 599, 161]]),\n",
       " array([[0.        , 0.25064941, 0.29416391, ..., 0.38637801, 0.38934209,\n",
       "         0.39141938],\n",
       "        [0.        , 0.18734351, 0.22305212, ..., 0.50459237, 0.50842623,\n",
       "         0.51026511],\n",
       "        [0.        , 0.17007793, 0.18181721, ..., 0.45454481, 0.4712992 ,\n",
       "         0.47615916],\n",
       "        ...,\n",
       "        [0.        , 0.33175923, 0.34438371, ..., 0.41221244, 0.41421672,\n",
       "         0.41944463],\n",
       "        [0.        , 0.40035471, 0.42362912, ..., 0.5002891 , 0.50064977,\n",
       "         0.50370692],\n",
       "        [0.        , 0.36331799, 0.38605594, ..., 0.47357289, 0.47458936,\n",
       "         0.47871396]]))"
      ]
     },
     "execution_count": 472,
     "metadata": {},
     "output_type": "execute_result"
    }
   ],
   "source": [
    "sf_csr=df5_train\n",
    "result1 = knnclf.kneighbors(sf_csr)\n",
    "result1[1]+1, result1[0] # lower cosine distance, more similiar"
   ]
  },
  {
   "cell_type": "code",
   "execution_count": 473,
   "metadata": {},
   "outputs": [
    {
     "name": "stdout",
     "output_type": "stream",
     "text": [
      "              precision    recall  f1-score   support\n",
      "\n",
      "           1       0.00      0.00      0.00         1\n",
      "           2       0.00      0.00      0.00         1\n",
      "           3       0.71      0.53      0.61        19\n",
      "           4       0.62      0.93      0.74        40\n",
      "           5       1.00      0.07      0.13        14\n",
      "\n",
      "   micro avg       0.64      0.64      0.64        75\n",
      "   macro avg       0.47      0.30      0.30        75\n",
      "weighted avg       0.70      0.64      0.57        75\n",
      "\n",
      "0.64\n"
     ]
    }
   ],
   "source": [
    "from sklearn.metrics import classification_report\n",
    "from sklearn.metrics import accuracy_score\n",
    "\n",
    "#https://www.cnblogs.com/178mz/p/8558435.html   ： classification_report\n",
    "print(classification_report(df5_test_target, knnpreds_test))\n",
    "print (accuracy_score(df5_test_target, knnpreds_test)) #0.64"
   ]
  },
  {
   "cell_type": "code",
   "execution_count": 490,
   "metadata": {},
   "outputs": [
    {
     "data": {
      "text/plain": [
       "0    4\n",
       "1    4\n",
       "2    5\n",
       "3    3\n",
       "4    4\n",
       "Name: Score, dtype: int64"
      ]
     },
     "execution_count": 490,
     "metadata": {},
     "output_type": "execute_result"
    }
   ],
   "source": [
    " df5_train_target.head()"
   ]
  },
  {
   "cell_type": "markdown",
   "metadata": {},
   "source": [
    "## 2.3 Word correltation based on cluster"
   ]
  },
  {
   "cell_type": "code",
   "execution_count": 240,
   "metadata": {},
   "outputs": [
    {
     "data": {
      "text/plain": [
       "Score\n",
       "1    [I found cockroach inside the corn. I am never...\n",
       "2    [Iüm always a bit sorry when I have to give a ...\n",
       "3    [i bought it to help my eczema at the directio...\n",
       "4    [I had been buying Dunkin Donuts ground coffee...\n",
       "5    [The price is worth it if you don't have a nea...\n",
       "Name: Summary, dtype: object"
      ]
     },
     "execution_count": 240,
     "metadata": {},
     "output_type": "execute_result"
    }
   ],
   "source": [
    "df=df.rename(columns={\"reviewer_rate\": \"Score\", \"reviewer_content\": \"Summary\",\"link\":\"ProductId\"})\n",
    "cluster = df.groupby(\"Score\")[\"Summary\"].apply(list)\n",
    "cluster.head()  #Series"
   ]
  },
  {
   "cell_type": "code",
   "execution_count": 243,
   "metadata": {},
   "outputs": [],
   "source": [
    "cluster = pd.DataFrame(cluster)\n",
    "cluster.to_csv(\"cluster.csv\")\n",
    "cluster1 = pd.read_csv(\"cluster.csv\") #dataframe\n"
   ]
  },
  {
   "cell_type": "code",
   "execution_count": 246,
   "metadata": {},
   "outputs": [],
   "source": [
    "cluster1[\"Summary_Clean\"] = cluster1[\"Summary\"].apply(cleanup)"
   ]
  },
  {
   "cell_type": "code",
   "execution_count": 252,
   "metadata": {},
   "outputs": [
    {
     "data": {
      "text/html": [
       "<div>\n",
       "<style scoped>\n",
       "    .dataframe tbody tr th:only-of-type {\n",
       "        vertical-align: middle;\n",
       "    }\n",
       "\n",
       "    .dataframe tbody tr th {\n",
       "        vertical-align: top;\n",
       "    }\n",
       "\n",
       "    .dataframe thead th {\n",
       "        text-align: right;\n",
       "    }\n",
       "</style>\n",
       "<table border=\"1\" class=\"dataframe\">\n",
       "  <thead>\n",
       "    <tr style=\"text-align: right;\">\n",
       "      <th></th>\n",
       "      <th>Score</th>\n",
       "      <th>Summary</th>\n",
       "      <th>Summary_Clean</th>\n",
       "    </tr>\n",
       "  </thead>\n",
       "  <tbody>\n",
       "    <tr>\n",
       "      <th>0</th>\n",
       "      <td>1</td>\n",
       "      <td>['I found cockroach inside the corn. I am neve...</td>\n",
       "      <td>i found cockroach inside the corn i am never g...</td>\n",
       "    </tr>\n",
       "    <tr>\n",
       "      <th>1</th>\n",
       "      <td>2</td>\n",
       "      <td>['Iüm always a bit sorry when I have to give a...</td>\n",
       "      <td>i m always a bit sorry when i have to give a p...</td>\n",
       "    </tr>\n",
       "    <tr>\n",
       "      <th>2</th>\n",
       "      <td>3</td>\n",
       "      <td>['i bought it to help my eczema at the directi...</td>\n",
       "      <td>i bought it to help my eczema at the direction...</td>\n",
       "    </tr>\n",
       "    <tr>\n",
       "      <th>3</th>\n",
       "      <td>4</td>\n",
       "      <td>[\"I had been buying Dunkin Donuts ground coffe...</td>\n",
       "      <td>i had been buying dunkin donuts ground coffee ...</td>\n",
       "    </tr>\n",
       "    <tr>\n",
       "      <th>4</th>\n",
       "      <td>5</td>\n",
       "      <td>[\"The price is worth it if you don't have a ne...</td>\n",
       "      <td>the price is worth it if you don t have a near...</td>\n",
       "    </tr>\n",
       "  </tbody>\n",
       "</table>\n",
       "</div>"
      ],
      "text/plain": [
       "   Score                                            Summary  \\\n",
       "0      1  ['I found cockroach inside the corn. I am neve...   \n",
       "1      2  ['Iüm always a bit sorry when I have to give a...   \n",
       "2      3  ['i bought it to help my eczema at the directi...   \n",
       "3      4  [\"I had been buying Dunkin Donuts ground coffe...   \n",
       "4      5  [\"The price is worth it if you don't have a ne...   \n",
       "\n",
       "                                       Summary_Clean  \n",
       "0  i found cockroach inside the corn i am never g...  \n",
       "1  i m always a bit sorry when i have to give a p...  \n",
       "2  i bought it to help my eczema at the direction...  \n",
       "3  i had been buying dunkin donuts ground coffee ...  \n",
       "4  the price is worth it if you don t have a near...  "
      ]
     },
     "execution_count": 252,
     "metadata": {},
     "output_type": "execute_result"
    }
   ],
   "source": [
    "cluster1.head()"
   ]
  },
  {
   "cell_type": "markdown",
   "metadata": {},
   "source": [
    "## 2.3.1 World Clouding for Each Score Group"
   ]
  },
  {
   "cell_type": "code",
   "execution_count": 254,
   "metadata": {},
   "outputs": [
    {
     "name": "stdout",
     "output_type": "stream",
     "text": [
      "Collecting package metadata (repodata.json): done\n",
      "Solving environment: - \n",
      "Warning: 2 possible package resolutions (only showing differing packages):\n",
      "  - anaconda::ca-certificates-2019.1.23-0\n",
      "  - defaults::ca-certificates-2019.1.23done\n",
      "\n",
      "## Package Plan ##\n",
      "\n",
      "  environment location: /Users/effyhou/anaconda3\n",
      "\n",
      "  added / updated specs:\n",
      "    - wordcloud\n",
      "\n",
      "\n",
      "The following packages will be downloaded:\n",
      "\n",
      "    package                    |            build\n",
      "    ---------------------------|-----------------\n",
      "    certifi-2019.3.9           |           py37_0         149 KB  conda-forge\n",
      "    conda-4.7.11               |           py37_0         3.0 MB  conda-forge\n",
      "    openssl-1.1.1b             |       h1de35cc_1         3.5 MB  conda-forge\n",
      "    wordcloud-1.5.0            |py37h1de35cc_1000         165 KB  conda-forge\n",
      "    ------------------------------------------------------------\n",
      "                                           Total:         6.8 MB\n",
      "\n",
      "The following NEW packages will be INSTALLED:\n",
      "\n",
      "  wordcloud          conda-forge/osx-64::wordcloud-1.5.0-py37h1de35cc_1000\n",
      "\n",
      "The following packages will be UPDATED:\n",
      "\n",
      "  conda                       anaconda::conda-4.7.10-py37_0 --> conda-forge::conda-4.7.11-py37_0\n",
      "\n",
      "The following packages will be SUPERSEDED by a higher-priority channel:\n",
      "\n",
      "  certifi                                          anaconda --> conda-forge\n",
      "  openssl                                          anaconda --> conda-forge\n",
      "\n",
      "\n",
      "\n",
      "Downloading and Extracting Packages\n",
      "conda-4.7.11         | 3.0 MB    | ##################################### | 100% \n",
      "openssl-1.1.1b       | 3.5 MB    | ##################################### | 100% \n",
      "certifi-2019.3.9     | 149 KB    | ##################################### | 100% \n",
      "wordcloud-1.5.0      | 165 KB    | ##################################### | 100% \n",
      "Preparing transaction: done\n",
      "Verifying transaction: done\n",
      "Executing transaction: done\n",
      "\n",
      "Note: you may need to restart the kernel to use updated packages.\n"
     ]
    }
   ],
   "source": [
    "conda install -c conda-forge wordcloud "
   ]
  },
  {
   "cell_type": "code",
   "execution_count": 255,
   "metadata": {},
   "outputs": [],
   "source": [
    " \n",
    "import string\n",
    "from wordcloud import WordCloud, STOPWORDS"
   ]
  },
  {
   "cell_type": "code",
   "execution_count": 256,
   "metadata": {},
   "outputs": [],
   "source": [
    "stopwords = set(STOPWORDS)\n",
    "\n",
    "def show_wordcloud(data, title = None):\n",
    "    wordcloud = WordCloud(\n",
    "        background_color='white',\n",
    "        stopwords=stopwords,\n",
    "        max_words=500,\n",
    "        max_font_size=30, \n",
    "        scale=3,\n",
    "        random_state=1 # chosen at random by flipping a coin; it was heads\n",
    "    ).generate(str(data))\n",
    "    \n",
    "    fig = plt.figure(1, figsize=(8, 8))\n",
    "    plt.axis('off')\n",
    "    if title: \n",
    "        fig.suptitle(title, fontsize=20)\n",
    "        fig.subplots_adjust(top=2.3)\n",
    "\n",
    "    plt.imshow(wordcloud)\n",
    "    plt.show()\n"
   ]
  },
  {
   "cell_type": "code",
   "execution_count": 257,
   "metadata": {},
   "outputs": [
    {
     "data": {
      "image/png": "[encoded data removed]",
      "text/plain": [
       "<Figure size 576x576 with 1 Axes>"
      ]
     },
     "metadata": {
      "needs_background": "light"
     },
     "output_type": "display_data"
    }
   ],
   "source": [
    "show_wordcloud(cluster1[\"Summary_Clean\"][0], title = \"Review Score One\")"
   ]
  },
  {
   "cell_type": "code",
   "execution_count": 258,
   "metadata": {},
   "outputs": [
    {
     "data": {
      "image/png": "[encoded data removed]",
      "text/plain": [
       "<Figure size 576x576 with 1 Axes>"
      ]
     },
     "metadata": {
      "needs_background": "light"
     },
     "output_type": "display_data"
    }
   ],
   "source": [
    "show_wordcloud(cluster1[\"Summary_Clean\"][1] , title = \"Review Score Two\")"
   ]
  },
  {
   "cell_type": "code",
   "execution_count": 259,
   "metadata": {},
   "outputs": [
    {
     "data": {
      "image/png": "[encoded data removed]",
      "text/plain": [
       "<Figure size 576x576 with 1 Axes>"
      ]
     },
     "metadata": {
      "needs_background": "light"
     },
     "output_type": "display_data"
    }
   ],
   "source": [
    "show_wordcloud(cluster1[\"Summary_Clean\"][2], title = \"Review Score Three\")"
   ]
  },
  {
   "cell_type": "code",
   "execution_count": 260,
   "metadata": {},
   "outputs": [
    {
     "data": {
      "image/png": "[encoded data removed]",
      "text/plain": [
       "<Figure size 576x576 with 1 Axes>"
      ]
     },
     "metadata": {
      "needs_background": "light"
     },
     "output_type": "display_data"
    }
   ],
   "source": [
    "show_wordcloud(cluster1[\"Summary_Clean\"][3], title = \"Review Score Four\")"
   ]
  },
  {
   "cell_type": "code",
   "execution_count": 261,
   "metadata": {},
   "outputs": [
    {
     "data": {
      "image/png": "[encoded data removed]",
      "text/plain": [
       "<Figure size 576x576 with 1 Axes>"
      ]
     },
     "metadata": {
      "needs_background": "light"
     },
     "output_type": "display_data"
    }
   ],
   "source": [
    "show_wordcloud(cluster1[\"Summary_Clean\"][4], title = \"Review Score Five\")"
   ]
  },
  {
   "cell_type": "code",
   "execution_count": 270,
   "metadata": {},
   "outputs": [
    {
     "name": "stdout",
     "output_type": "stream",
     "text": [
      "Collecting package metadata (repodata.json): done\n",
      "Solving environment: done\n",
      "\n",
      "## Package Plan ##\n",
      "\n",
      "  environment location: /Users/effyhou/anaconda3\n",
      "\n",
      "  added / updated specs:\n",
      "    - scikit-surprise\n",
      "\n",
      "\n",
      "The following packages will be downloaded:\n",
      "\n",
      "    package                    |            build\n",
      "    ---------------------------|-----------------\n",
      "    certifi-2019.3.9           |           py37_0         149 KB  conda-forge\n",
      "    conda-4.7.11               |           py37_0         3.0 MB  conda-forge\n",
      "    openssl-1.1.1b             |       h1de35cc_1         3.5 MB  conda-forge\n",
      "    ------------------------------------------------------------\n",
      "                                           Total:         6.6 MB\n",
      "\n",
      "The following NEW packages will be INSTALLED:\n",
      "\n",
      "  joblib             conda-forge/noarch::joblib-0.13.2-py_0\n",
      "  scikit-surprise    conda-forge/osx-64::scikit-surprise-1.0.6-py37h917ab60_1001\n",
      "\n",
      "The following packages will be SUPERSEDED by a higher-priority channel:\n",
      "\n",
      "  certifi                                         pkgs/main --> conda-forge\n",
      "  conda                                           pkgs/main --> conda-forge\n",
      "  openssl                                         pkgs/main --> conda-forge\n",
      "\n",
      "\n",
      "\n",
      "Downloading and Extracting Packages\n",
      "certifi-2019.3.9     | 149 KB    | ##################################### | 100% \n",
      "conda-4.7.11         | 3.0 MB    | ##################################### | 100% \n",
      "openssl-1.1.1b       | 3.5 MB    | ##################################### | 100% \n",
      "Preparing transaction: done\n",
      "Verifying transaction: done\n",
      "Executing transaction: done\n",
      "\n",
      "Note: you may need to restart the kernel to use updated packages.\n"
     ]
    }
   ],
   "source": [
    "conda install -c conda-forge scikit-surprise"
   ]
  },
  {
   "cell_type": "code",
   "execution_count": 274,
   "metadata": {},
   "outputs": [
    {
     "name": "stdout",
     "output_type": "stream",
     "text": [
      "Collecting package metadata (repodata.json): done\n",
      "Solving environment: done\n",
      "\n",
      "## Package Plan ##\n",
      "\n",
      "  environment location: /Users/effyhou/anaconda3\n",
      "\n",
      "  added / updated specs:\n",
      "    - joblib\n",
      "\n",
      "\n",
      "The following packages will be downloaded:\n",
      "\n",
      "    package                    |            build\n",
      "    ---------------------------|-----------------\n",
      "    ca-certificates-2019.1.23  |                0         126 KB  anaconda\n",
      "    certifi-2019.3.9           |           py37_0         155 KB  anaconda\n",
      "    joblib-0.13.2              |           py37_0         367 KB  anaconda\n",
      "    openssl-1.1.1b             |       h1de35cc_1         3.4 MB  anaconda\n",
      "    ------------------------------------------------------------\n",
      "                                           Total:         4.1 MB\n",
      "\n",
      "The following packages will be SUPERSEDED by a higher-priority channel:\n",
      "\n",
      "  ca-certificates                                 pkgs/main --> anaconda\n",
      "  certifi                                       conda-forge --> anaconda\n",
      "  joblib             conda-forge/noarch::joblib-0.13.2-py_0 --> anaconda/osx-64::joblib-0.13.2-py37_0\n",
      "  openssl                                       conda-forge --> anaconda\n",
      "\n",
      "\n",
      "\n",
      "Downloading and Extracting Packages\n",
      "openssl-1.1.1b       | 3.4 MB    | ##################################### | 100% \n",
      "ca-certificates-2019 | 126 KB    | ##################################### | 100% \n",
      "joblib-0.13.2        | 367 KB    | ##################################### | 100% \n",
      "certifi-2019.3.9     | 155 KB    | ##################################### | 100% \n",
      "Preparing transaction: done\n",
      "Verifying transaction: done\n",
      "Executing transaction: done\n",
      "\n",
      "Note: you may need to restart the kernel to use updated packages.\n"
     ]
    }
   ],
   "source": [
    "conda install -c anaconda joblib "
   ]
  },
  {
   "cell_type": "markdown",
   "metadata": {},
   "source": [
    "# 3. Cosine Similarity (Simple Recommender)"
   ]
  },
  {
   "cell_type": "code",
   "execution_count": null,
   "metadata": {},
   "outputs": [],
   "source": [
    "#Import TfIdfVectorizer from scikit-learn\n",
    "from sklearn.feature_extraction.text import TfidfVectorizer\n",
    "\n",
    "#Define a TF-IDF Vectorizer Object. Remove all english stop words such as 'the', 'a'\n",
    "tfidf = TfidfVectorizer(max_features = 100,stop_words='english')\n",
    "\n",
    "#Replace NaN with an empty string\n",
    "docs2 = df3[\"Summary_Clean\"] \n",
    "docs2 = df3['Summary_Clean'].fillna('')\n",
    "\n",
    "#Construct the required TF-IDF matrix by fitting and transforming the data\n",
    "tfidf_matrix = tfidf.fit_transform(docs2)\n",
    "\n",
    "#Output the shape of tfidf_matrix\n",
    "tfidf_matrix.shape\n",
    "\n",
    "# You see that first 100 different words were used to describe the 745 movies in your dataset.\n"
   ]
  },
  {
   "cell_type": "code",
   "execution_count": 322,
   "metadata": {},
   "outputs": [],
   "source": [
    "#Since you have used the TF-IDF vectorizer, calculating the dot product will directly give you the cosine similarity score. \n",
    "#Therefore, you will use sklearn's linear_kernel() instead of cosine_similarities() since it is faster.\n",
    "\n",
    "\n",
    "# Import linear_kernel\n",
    "from sklearn.metrics.pairwise import linear_kernel\n",
    "\n",
    "# Compute the cosine similarity matrix\n",
    "cosine_sim = linear_kernel(tfidf_matrix, tfidf_matrix)\n",
    "\n"
   ]
  },
  {
   "cell_type": "code",
   "execution_count": 326,
   "metadata": {},
   "outputs": [
    {
     "data": {
      "text/plain": [
       "ProductId\n",
       "B0000CCZYY    0\n",
       "B0000DID5Q    1\n",
       "B0000GHNT0    2\n",
       "B0000V8IOE    3\n",
       "B00014DAHU    4\n",
       "dtype: int64"
      ]
     },
     "execution_count": 326,
     "metadata": {},
     "output_type": "execute_result"
    }
   ],
   "source": [
    "#Construct a reverse map of indices and product titles\n",
    "indices = pd.Series(df3.index, index=df3['ProductId']).drop_duplicates()\n",
    "indices.head()"
   ]
  },
  {
   "cell_type": "code",
   "execution_count": 330,
   "metadata": {},
   "outputs": [],
   "source": [
    "# Function that takes in movie title as input and outputs most similar movies\n",
    "def get_recommendations(title, cosine_sim=cosine_sim):\n",
    "    # Get the index of the movie that matches the title\n",
    "    idx = indices[title]\n",
    "\n",
    "    # Get the pairwsie similarity scores of all movies with that movie\n",
    "    sim_scores = list(enumerate(cosine_sim[idx]))\n",
    "\n",
    "    # Sort the movies based on the similarity scores:The lambda function takes input x return x[1] which is the second element of x\n",
    "     #key来制定我们根据那个字段对列表元素进行排序, 想对元素第二个字段排序，则 key=lambda x: x[1]\n",
    "    sim_scores = sorted(sim_scores, key=lambda x: x[1], reverse=True)\n",
    "\n",
    "    # Get the scores of the 10 most similar movies\n",
    "    sim_scores = sim_scores[1:11]\n",
    "\n",
    "    # Get the movie indices\n",
    "    product_indices = [i[0] for i in sim_scores]\n",
    "\n",
    "    # Return the top 10 most similar movies\n",
    "    return df3['ProductId'].iloc[product_indices]"
   ]
  },
  {
   "cell_type": "code",
   "execution_count": 331,
   "metadata": {},
   "outputs": [
    {
     "data": {
      "text/plain": [
       "406    B001E8HSAM\n",
       "174    B000FELX2U\n",
       "241    B000LKVIVE\n",
       "327    B00139E46S\n",
       "480    B001LG940E\n",
       "481    B001LGGH40\n",
       "99     B000E46GGO\n",
       "101    B000E4ALHY\n",
       "275    B000P54HVS\n",
       "302    B000XSGMHO\n",
       "Name: ProductId, dtype: object"
      ]
     },
     "execution_count": 331,
     "metadata": {},
     "output_type": "execute_result"
    }
   ],
   "source": [
    "get_recommendations('B0000CCZYY')"
   ]
  },
  {
   "cell_type": "markdown",
   "metadata": {},
   "source": [
    "# 4. Random Forest"
   ]
  },
  {
   "cell_type": "code",
   "execution_count": 406,
   "metadata": {},
   "outputs": [
    {
     "data": {
      "text/html": [
       "<div>\n",
       "<style scoped>\n",
       "    .dataframe tbody tr th:only-of-type {\n",
       "        vertical-align: middle;\n",
       "    }\n",
       "\n",
       "    .dataframe tbody tr th {\n",
       "        vertical-align: top;\n",
       "    }\n",
       "\n",
       "    .dataframe thead th {\n",
       "        text-align: right;\n",
       "    }\n",
       "</style>\n",
       "<table border=\"1\" class=\"dataframe\">\n",
       "  <thead>\n",
       "    <tr style=\"text-align: right;\">\n",
       "      <th></th>\n",
       "      <th>add</th>\n",
       "      <th>amazon</th>\n",
       "      <th>bad</th>\n",
       "      <th>bag</th>\n",
       "      <th>bags</th>\n",
       "      <th>best</th>\n",
       "      <th>better</th>\n",
       "      <th>bit</th>\n",
       "      <th>bought</th>\n",
       "      <th>box</th>\n",
       "      <th>...</th>\n",
       "      <th>try</th>\n",
       "      <th>use</th>\n",
       "      <th>used</th>\n",
       "      <th>using</th>\n",
       "      <th>ve</th>\n",
       "      <th>want</th>\n",
       "      <th>water</th>\n",
       "      <th>way</th>\n",
       "      <th>wheat</th>\n",
       "      <th>years</th>\n",
       "    </tr>\n",
       "  </thead>\n",
       "  <tbody>\n",
       "    <tr>\n",
       "      <th>0</th>\n",
       "      <td>0.000000</td>\n",
       "      <td>0.061967</td>\n",
       "      <td>0.000000</td>\n",
       "      <td>0.000000</td>\n",
       "      <td>0.0</td>\n",
       "      <td>0.202661</td>\n",
       "      <td>0.065055</td>\n",
       "      <td>0.000000</td>\n",
       "      <td>0.000000</td>\n",
       "      <td>0.082167</td>\n",
       "      <td>...</td>\n",
       "      <td>0.000000</td>\n",
       "      <td>0.000000</td>\n",
       "      <td>0.000000</td>\n",
       "      <td>0.086288</td>\n",
       "      <td>0.112947</td>\n",
       "      <td>0.000000</td>\n",
       "      <td>0.000000</td>\n",
       "      <td>0.000000</td>\n",
       "      <td>0.119658</td>\n",
       "      <td>0.000000</td>\n",
       "    </tr>\n",
       "    <tr>\n",
       "      <th>1</th>\n",
       "      <td>0.034731</td>\n",
       "      <td>0.000000</td>\n",
       "      <td>0.069088</td>\n",
       "      <td>0.000000</td>\n",
       "      <td>0.0</td>\n",
       "      <td>0.000000</td>\n",
       "      <td>0.000000</td>\n",
       "      <td>0.030963</td>\n",
       "      <td>0.058551</td>\n",
       "      <td>0.000000</td>\n",
       "      <td>...</td>\n",
       "      <td>0.027779</td>\n",
       "      <td>0.189814</td>\n",
       "      <td>0.000000</td>\n",
       "      <td>0.107097</td>\n",
       "      <td>0.000000</td>\n",
       "      <td>0.033519</td>\n",
       "      <td>0.107496</td>\n",
       "      <td>0.096177</td>\n",
       "      <td>0.000000</td>\n",
       "      <td>0.000000</td>\n",
       "    </tr>\n",
       "    <tr>\n",
       "      <th>2</th>\n",
       "      <td>0.073340</td>\n",
       "      <td>0.000000</td>\n",
       "      <td>0.000000</td>\n",
       "      <td>0.000000</td>\n",
       "      <td>0.0</td>\n",
       "      <td>0.118033</td>\n",
       "      <td>0.000000</td>\n",
       "      <td>0.000000</td>\n",
       "      <td>0.061819</td>\n",
       "      <td>0.000000</td>\n",
       "      <td>...</td>\n",
       "      <td>0.000000</td>\n",
       "      <td>0.114519</td>\n",
       "      <td>0.059835</td>\n",
       "      <td>0.075383</td>\n",
       "      <td>0.049336</td>\n",
       "      <td>0.000000</td>\n",
       "      <td>0.000000</td>\n",
       "      <td>0.000000</td>\n",
       "      <td>0.000000</td>\n",
       "      <td>0.000000</td>\n",
       "    </tr>\n",
       "    <tr>\n",
       "      <th>3</th>\n",
       "      <td>0.000000</td>\n",
       "      <td>0.021616</td>\n",
       "      <td>0.029127</td>\n",
       "      <td>0.203888</td>\n",
       "      <td>0.0</td>\n",
       "      <td>0.047131</td>\n",
       "      <td>0.158855</td>\n",
       "      <td>0.026107</td>\n",
       "      <td>0.148107</td>\n",
       "      <td>0.028663</td>\n",
       "      <td>...</td>\n",
       "      <td>0.070267</td>\n",
       "      <td>0.045728</td>\n",
       "      <td>0.023892</td>\n",
       "      <td>0.000000</td>\n",
       "      <td>0.019700</td>\n",
       "      <td>0.028263</td>\n",
       "      <td>0.030213</td>\n",
       "      <td>0.027032</td>\n",
       "      <td>0.000000</td>\n",
       "      <td>0.027587</td>\n",
       "    </tr>\n",
       "    <tr>\n",
       "      <th>4</th>\n",
       "      <td>0.000000</td>\n",
       "      <td>0.000000</td>\n",
       "      <td>0.000000</td>\n",
       "      <td>0.091470</td>\n",
       "      <td>0.0</td>\n",
       "      <td>0.000000</td>\n",
       "      <td>0.000000</td>\n",
       "      <td>0.000000</td>\n",
       "      <td>0.000000</td>\n",
       "      <td>0.000000</td>\n",
       "      <td>...</td>\n",
       "      <td>0.000000</td>\n",
       "      <td>0.143604</td>\n",
       "      <td>0.075032</td>\n",
       "      <td>0.000000</td>\n",
       "      <td>0.000000</td>\n",
       "      <td>0.000000</td>\n",
       "      <td>0.000000</td>\n",
       "      <td>0.084890</td>\n",
       "      <td>0.000000</td>\n",
       "      <td>0.000000</td>\n",
       "    </tr>\n",
       "  </tbody>\n",
       "</table>\n",
       "<p>5 rows × 100 columns</p>\n",
       "</div>"
      ],
      "text/plain": [
       "        add    amazon       bad       bag  bags      best    better       bit  \\\n",
       "0  0.000000  0.061967  0.000000  0.000000   0.0  0.202661  0.065055  0.000000   \n",
       "1  0.034731  0.000000  0.069088  0.000000   0.0  0.000000  0.000000  0.030963   \n",
       "2  0.073340  0.000000  0.000000  0.000000   0.0  0.118033  0.000000  0.000000   \n",
       "3  0.000000  0.021616  0.029127  0.203888   0.0  0.047131  0.158855  0.026107   \n",
       "4  0.000000  0.000000  0.000000  0.091470   0.0  0.000000  0.000000  0.000000   \n",
       "\n",
       "     bought       box  ...       try       use      used     using        ve  \\\n",
       "0  0.000000  0.082167  ...  0.000000  0.000000  0.000000  0.086288  0.112947   \n",
       "1  0.058551  0.000000  ...  0.027779  0.189814  0.000000  0.107097  0.000000   \n",
       "2  0.061819  0.000000  ...  0.000000  0.114519  0.059835  0.075383  0.049336   \n",
       "3  0.148107  0.028663  ...  0.070267  0.045728  0.023892  0.000000  0.019700   \n",
       "4  0.000000  0.000000  ...  0.000000  0.143604  0.075032  0.000000  0.000000   \n",
       "\n",
       "       want     water       way     wheat     years  \n",
       "0  0.000000  0.000000  0.000000  0.119658  0.000000  \n",
       "1  0.033519  0.107496  0.096177  0.000000  0.000000  \n",
       "2  0.000000  0.000000  0.000000  0.000000  0.000000  \n",
       "3  0.028263  0.030213  0.027032  0.000000  0.027587  \n",
       "4  0.000000  0.000000  0.084890  0.000000  0.000000  \n",
       "\n",
       "[5 rows x 100 columns]"
      ]
     },
     "execution_count": 406,
     "metadata": {},
     "output_type": "execute_result"
    }
   ],
   "source": [
    "from sklearn.feature_extraction.text import TfidfVectorizer\n",
    "\n",
    "docs3 = df3[\"Summary_Clean\"] \n",
    "tfidf2 = TfidfVectorizer(max_features = 100, stop_words='english')\n",
    "X = tfidf2.fit_transform(docs3) \n",
    "\n",
    "df6 = DataFrame(X.A, columns=vect.get_feature_names())\n",
    "df6 = df6.astype(float)\n",
    "df6.head()"
   ]
  },
  {
   "cell_type": "code",
   "execution_count": 407,
   "metadata": {},
   "outputs": [],
   "source": [
    "# First let's create a dataset called X\n",
    "X = np.array(df6)\n",
    " # create train and test\n",
    "tpercent = 0.9\n",
    "tsize = int(np.floor(tpercent * len(df6)))\n",
    "df6_train = X[:tsize]\n",
    "df6_test = X[tsize:]\n",
    "#len of train and test\n",
    "lentrain = len(df6_train)\n",
    "lentest = len(df6_test)"
   ]
  },
  {
   "cell_type": "code",
   "execution_count": 412,
   "metadata": {},
   "outputs": [],
   "source": [
    "df6_train_target = df3[\"Score\"][:lentrain]\n",
    "df6_test_target = df3[\"Score\"][lentrain:lentrain+lentest]\n",
    "df6_train_target = df5_train_target.astype(int)\n",
    "df6_test_target = df5_test_target.astype(int)"
   ]
  },
  {
   "cell_type": "code",
   "execution_count": 420,
   "metadata": {},
   "outputs": [
    {
     "name": "stdout",
     "output_type": "stream",
     "text": [
      "Parameters currently in use:\n",
      "\n",
      "{'bootstrap': True,\n",
      " 'class_weight': None,\n",
      " 'criterion': 'gini',\n",
      " 'max_depth': None,\n",
      " 'max_features': 'auto',\n",
      " 'max_leaf_nodes': None,\n",
      " 'min_impurity_decrease': 0.0,\n",
      " 'min_impurity_split': None,\n",
      " 'min_samples_leaf': 1,\n",
      " 'min_samples_split': 2,\n",
      " 'min_weight_fraction_leaf': 0.0,\n",
      " 'n_estimators': 100,\n",
      " 'n_jobs': None,\n",
      " 'oob_score': False,\n",
      " 'random_state': None,\n",
      " 'verbose': 0,\n",
      " 'warm_start': False}\n"
     ]
    },
    {
     "data": {
      "text/plain": [
       "array([5, 4, 4, 4, 4, 4, 4, 4, 4, 4, 4, 4, 4, 4, 4, 4, 4, 4, 4, 4, 3, 4,\n",
       "       3, 4, 4, 4, 4, 4, 4, 4, 4, 4, 4, 4, 4, 4, 4, 3, 4, 4, 4, 3, 4, 4,\n",
       "       4, 4, 4, 4, 4, 4, 4, 4, 4, 4, 4, 4, 4, 3, 3, 4, 4, 4, 4, 4, 4, 4,\n",
       "       4, 4, 4, 4, 4, 4, 4, 4, 4])"
      ]
     },
     "execution_count": 420,
     "metadata": {},
     "output_type": "execute_result"
    }
   ],
   "source": [
    "#Import Random Forest Model\n",
    "from sklearn.ensemble import RandomForestClassifier\n",
    "\n",
    "#Create a Gaussian Classifier\n",
    "clf=RandomForestClassifier(n_estimators=100)\n",
    "from pprint import pprint\n",
    "# Look at parameters used by our current forest\n",
    "print('Parameters currently in use:\\n')\n",
    "pprint(clf.get_params())\n",
    "\n",
    "#Train the model using the training sets y_pred=clf.predict(X_test)\n",
    "clf.fit(df6_train,df6_train_target)\n",
    "\n",
    "rfpreds_test=clf.predict(df6_test)\n",
    "rfpreds_test"
   ]
  },
  {
   "cell_type": "code",
   "execution_count": 419,
   "metadata": {},
   "outputs": [
    {
     "name": "stdout",
     "output_type": "stream",
     "text": [
      "              precision    recall  f1-score   support\n",
      "\n",
      "           1       0.00      0.00      0.00         1\n",
      "           2       0.00      0.00      0.00         1\n",
      "           3       1.00      0.16      0.27        19\n",
      "           4       0.56      1.00      0.72        40\n",
      "           5       1.00      0.07      0.13        14\n",
      "\n",
      "   micro avg       0.59      0.59      0.59        75\n",
      "   macro avg       0.51      0.25      0.23        75\n",
      "weighted avg       0.74      0.59      0.48        75\n",
      "\n",
      "0.5866666666666667\n"
     ]
    }
   ],
   "source": [
    "\n",
    "print(classification_report(df6_test_target, rfpreds_test))\n",
    "print (accuracy_score(df6_test_target, rfpreds_test)) #0.59"
   ]
  },
  {
   "cell_type": "markdown",
   "metadata": {},
   "source": [
    "## 4.1 Random Grid Search"
   ]
  },
  {
   "cell_type": "code",
   "execution_count": 421,
   "metadata": {},
   "outputs": [
    {
     "name": "stdout",
     "output_type": "stream",
     "text": [
      "{'bootstrap': [True, False],\n",
      " 'max_depth': [10, 20, 30, 40, 50, 60, 70, 80, 90, 100, 110, None],\n",
      " 'max_features': ['auto', 'sqrt'],\n",
      " 'min_samples_leaf': [1, 2, 4],\n",
      " 'min_samples_split': [2, 5, 10],\n",
      " 'n_estimators': [200, 400, 600, 800, 1000, 1200, 1400, 1600, 1800, 2000]}\n"
     ]
    }
   ],
   "source": [
    "from sklearn.model_selection import RandomizedSearchCV\n",
    "# Number of trees in random forest\n",
    "n_estimators = [int(x) for x in np.linspace(start = 200, stop = 2000, num = 10)]\n",
    "# Number of features to consider at every split\n",
    "max_features = ['auto', 'sqrt']\n",
    "# Maximum number of levels in tree\n",
    "max_depth = [int(x) for x in np.linspace(10, 110, num = 11)]\n",
    "max_depth.append(None)\n",
    "# Minimum number of samples required to split a node\n",
    "min_samples_split = [2, 5, 10]\n",
    "# Minimum number of samples required at each leaf node\n",
    "min_samples_leaf = [1, 2, 4]\n",
    "# Method of selecting samples for training each tree\n",
    "bootstrap = [True, False]\n",
    "# Create the random grid\n",
    "random_grid = {'n_estimators': n_estimators,\n",
    "               'max_features': max_features,\n",
    "               'max_depth': max_depth,\n",
    "               'min_samples_split': min_samples_split,\n",
    "               'min_samples_leaf': min_samples_leaf,\n",
    "               'bootstrap': bootstrap}\n",
    "pprint(random_grid)"
   ]
  },
  {
   "cell_type": "code",
   "execution_count": 478,
   "metadata": {},
   "outputs": [
    {
     "name": "stdout",
     "output_type": "stream",
     "text": [
      "Fitting 3 folds for each of 50 candidates, totalling 150 fits\n"
     ]
    },
    {
     "name": "stderr",
     "output_type": "stream",
     "text": [
      "[Parallel(n_jobs=-1)]: Using backend LokyBackend with 4 concurrent workers.\n",
      "[Parallel(n_jobs=-1)]: Done  33 tasks      | elapsed:   41.0s\n",
      "[Parallel(n_jobs=-1)]: Done 150 out of 150 | elapsed:  2.6min finished\n"
     ]
    },
    {
     "data": {
      "text/plain": [
       "RandomizedSearchCV(cv=3, error_score='raise-deprecating',\n",
       "          estimator=RandomForestClassifier(bootstrap=True, class_weight=None, criterion='gini',\n",
       "            max_depth=None, max_features='auto', max_leaf_nodes=None,\n",
       "            min_impurity_decrease=0.0, min_impurity_split=None,\n",
       "            min_samples_leaf=1, min_samples_split=2,\n",
       "            min_weight_fraction_leaf=0.0, n_estimators='warn', n_jobs=None,\n",
       "            oob_score=False, random_state=None, verbose=0,\n",
       "            warm_start=False),\n",
       "          fit_params=None, iid='warn', n_iter=50, n_jobs=-1,\n",
       "          param_distributions={'n_estimators': [200, 400, 600, 800, 1000, 1200, 1400, 1600, 1800, 2000], 'max_features': ['auto', 'sqrt'], 'max_depth': [10, 20, 30, 40, 50, 60, 70, 80, 90, 100, 110, None], 'min_samples_split': [2, 5, 10], 'min_samples_leaf': [1, 2, 4], 'bootstrap': [True, False]},\n",
       "          pre_dispatch='2*n_jobs', random_state=42, refit=True,\n",
       "          return_train_score='warn', scoring=None, verbose=2)"
      ]
     },
     "execution_count": 478,
     "metadata": {},
     "output_type": "execute_result"
    }
   ],
   "source": [
    "from sklearn.ensemble import RandomForestClassifier\n",
    " \n",
    "\n",
    "#Random Search Training\n",
    "# Use the random grid to search for best hyperparameters\n",
    "# First create the base model to tune\n",
    "rf = RandomForestClassifier()\n",
    "# Random search of parameters, using 3 fold cross validation, \n",
    "# search across 100 different combinations, and use all available cores\n",
    "#but raising each n_iter or cv will increase the run time\n",
    "rf_random = RandomizedSearchCV(estimator = rf, param_distributions = random_grid, n_iter = 50, cv = 3, verbose=2, random_state=42, n_jobs = -1)\n",
    "# Fit the random search model\n",
    "rf_random.fit(df6_train,df6_train_target)\n",
    "\n"
   ]
  },
  {
   "cell_type": "code",
   "execution_count": 479,
   "metadata": {},
   "outputs": [
    {
     "data": {
      "text/plain": [
       "{'n_estimators': 600,\n",
       " 'min_samples_split': 2,\n",
       " 'min_samples_leaf': 2,\n",
       " 'max_features': 'sqrt',\n",
       " 'max_depth': 110,\n",
       " 'bootstrap': False}"
      ]
     },
     "execution_count": 479,
     "metadata": {},
     "output_type": "execute_result"
    }
   ],
   "source": [
    "rf_random.best_params_"
   ]
  },
  {
   "cell_type": "code",
   "execution_count": null,
   "metadata": {},
   "outputs": [],
   "source": [
    "#Evaluate Random Search\n",
    "#To determine if random search yielded a better model,\n",
    "#we compare the base model with the best random search model."
   ]
  },
  {
   "cell_type": "code",
   "execution_count": 480,
   "metadata": {},
   "outputs": [
    {
     "name": "stdout",
     "output_type": "stream",
     "text": [
      "Model Performance\n",
      "Average Error: 0.4800 degrees.\n",
      "Accuracy = 83.04%.\n"
     ]
    }
   ],
   "source": [
    "def evaluate(model, test_features, test_labels):\n",
    "    predictions = model.predict(test_features)\n",
    "    errors = abs(predictions - test_labels)\n",
    "    mape = 100 * np.mean(errors / test_labels)\n",
    "    accuracy = 100 - mape\n",
    "    print('Model Performance')\n",
    "    print('Average Error: {:0.4f} degrees.'.format(np.mean(errors)))\n",
    "    print('Accuracy = {:0.2f}%.'.format(accuracy))\n",
    "    \n",
    "    return accuracy\n",
    "base_model = RandomForestClassifier(n_estimators = 10, random_state = 42)\n",
    "base_model.fit(df6_train,df6_train_target)\n",
    "base_accuracy = evaluate(base_model, df6_test,df6_test_target)\n",
    " "
   ]
  },
  {
   "cell_type": "code",
   "execution_count": 481,
   "metadata": {},
   "outputs": [
    {
     "name": "stdout",
     "output_type": "stream",
     "text": [
      "Model Performance\n",
      "Average Error: 0.4267 degrees.\n",
      "Accuracy = 84.98%.\n",
      "Improvement of 2.33%.\n"
     ]
    }
   ],
   "source": [
    " \n",
    "best_random = rf_random.best_estimator_\n",
    "random_accuracy = evaluate(best_random, df6_test,df6_test_target)\n",
    " \n",
    "print('Improvement of {:0.2f}%.'.format( 100 * (random_accuracy - base_accuracy) / base_accuracy))\n",
    " "
   ]
  },
  {
   "cell_type": "code",
   "execution_count": 482,
   "metadata": {},
   "outputs": [
    {
     "name": "stdout",
     "output_type": "stream",
     "text": [
      "Model Performance\n",
      "Average Error: 0.4800 degrees.\n",
      "Accuracy = 83.82%.\n"
     ]
    }
   ],
   "source": [
    "KNN_accuracy = evaluate(knnclf, df6_test,df6_test_target)"
   ]
  },
  {
   "cell_type": "code",
   "execution_count": 483,
   "metadata": {},
   "outputs": [
    {
     "name": "stdout",
     "output_type": "stream",
     "text": [
      "0.6133333333333333\n"
     ]
    }
   ],
   "source": [
    "best_rf_predict = best_random .predict(df6_test)\n",
    "print (accuracy_score(df6_test_target, best_rf_predict  )) #0.64"
   ]
  },
  {
   "cell_type": "markdown",
   "metadata": {},
   "source": [
    "# Simple Recommender (Weighted Score)"
   ]
  },
  {
   "cell_type": "code",
   "execution_count": 295,
   "metadata": {},
   "outputs": [
    {
     "data": {
      "text/html": [
       "<div>\n",
       "<style scoped>\n",
       "    .dataframe tbody tr th:only-of-type {\n",
       "        vertical-align: middle;\n",
       "    }\n",
       "\n",
       "    .dataframe tbody tr th {\n",
       "        vertical-align: top;\n",
       "    }\n",
       "\n",
       "    .dataframe thead th {\n",
       "        text-align: right;\n",
       "    }\n",
       "</style>\n",
       "<table border=\"1\" class=\"dataframe\">\n",
       "  <thead>\n",
       "    <tr style=\"text-align: right;\">\n",
       "      <th></th>\n",
       "      <th>ProductId</th>\n",
       "      <th>Score</th>\n",
       "      <th>Count</th>\n",
       "    </tr>\n",
       "  </thead>\n",
       "  <tbody>\n",
       "    <tr>\n",
       "      <th>0</th>\n",
       "      <td>B0000CCZYY</td>\n",
       "      <td>4.750000</td>\n",
       "      <td>8.0</td>\n",
       "    </tr>\n",
       "    <tr>\n",
       "      <th>1</th>\n",
       "      <td>B0000DID5Q</td>\n",
       "      <td>4.714286</td>\n",
       "      <td>7.0</td>\n",
       "    </tr>\n",
       "    <tr>\n",
       "      <th>2</th>\n",
       "      <td>B0000GHNT0</td>\n",
       "      <td>5.000000</td>\n",
       "      <td>8.0</td>\n",
       "    </tr>\n",
       "    <tr>\n",
       "      <th>3</th>\n",
       "      <td>B0000V8IOE</td>\n",
       "      <td>3.800000</td>\n",
       "      <td>5.0</td>\n",
       "    </tr>\n",
       "    <tr>\n",
       "      <th>4</th>\n",
       "      <td>B00014DAHU</td>\n",
       "      <td>4.125000</td>\n",
       "      <td>16.0</td>\n",
       "    </tr>\n",
       "  </tbody>\n",
       "</table>\n",
       "</div>"
      ],
      "text/plain": [
       "    ProductId     Score  Count\n",
       "0  B0000CCZYY  4.750000    8.0\n",
       "1  B0000DID5Q  4.714286    7.0\n",
       "2  B0000GHNT0  5.000000    8.0\n",
       "3  B0000V8IOE  3.800000    5.0\n",
       "4  B00014DAHU  4.125000   16.0"
      ]
     },
     "execution_count": 295,
     "metadata": {},
     "output_type": "execute_result"
    }
   ],
   "source": [
    "df4.head()"
   ]
  },
  {
   "cell_type": "code",
   "execution_count": 296,
   "metadata": {},
   "outputs": [
    {
     "name": "stdout",
     "output_type": "stream",
     "text": [
      "4.190574475404197\n"
     ]
    }
   ],
   "source": [
    "#As a first step, let's calculate the value of C, the mean rating across all product:\n",
    "# Calculate C\n",
    "C = df1['Score'].mean()\n",
    "print(C) #4.190574475404197   The average rating of a movie on IMDB is around 4.19, on a scale of 5."
   ]
  },
  {
   "cell_type": "code",
   "execution_count": 314,
   "metadata": {},
   "outputs": [],
   "source": [
    "# Function that computes the weighted rating of each product\n",
    "def weighted_rating(x, m=m, C=C):\n",
    "    v = x['Count']\n",
    "    R = x['Score']\n",
    "    # Calculation based on the IMDB formula\n",
    "    return (v/(v+m) * R) + (m/(m+v) * C)"
   ]
  },
  {
   "cell_type": "code",
   "execution_count": 315,
   "metadata": {},
   "outputs": [],
   "source": [
    "# Define a new feature 'score' and calculate its value with `weighted_rating()`\n",
    "df4['Weight_Score'] = df4.apply(weighted_rating, axis=1)"
   ]
  },
  {
   "cell_type": "code",
   "execution_count": 316,
   "metadata": {},
   "outputs": [
    {
     "data": {
      "text/html": [
       "<div>\n",
       "<style scoped>\n",
       "    .dataframe tbody tr th:only-of-type {\n",
       "        vertical-align: middle;\n",
       "    }\n",
       "\n",
       "    .dataframe tbody tr th {\n",
       "        vertical-align: top;\n",
       "    }\n",
       "\n",
       "    .dataframe thead th {\n",
       "        text-align: right;\n",
       "    }\n",
       "</style>\n",
       "<table border=\"1\" class=\"dataframe\">\n",
       "  <thead>\n",
       "    <tr style=\"text-align: right;\">\n",
       "      <th></th>\n",
       "      <th>ProductId</th>\n",
       "      <th>Score</th>\n",
       "      <th>Count</th>\n",
       "      <th>Weight_Score</th>\n",
       "    </tr>\n",
       "  </thead>\n",
       "  <tbody>\n",
       "    <tr>\n",
       "      <th>0</th>\n",
       "      <td>B0000CCZYY</td>\n",
       "      <td>4.750000</td>\n",
       "      <td>8.0</td>\n",
       "      <td>4.377050</td>\n",
       "    </tr>\n",
       "    <tr>\n",
       "      <th>1</th>\n",
       "      <td>B0000DID5Q</td>\n",
       "      <td>4.714286</td>\n",
       "      <td>7.0</td>\n",
       "      <td>4.349965</td>\n",
       "    </tr>\n",
       "    <tr>\n",
       "      <th>2</th>\n",
       "      <td>B0000GHNT0</td>\n",
       "      <td>5.000000</td>\n",
       "      <td>8.0</td>\n",
       "      <td>4.460383</td>\n",
       "    </tr>\n",
       "    <tr>\n",
       "      <th>3</th>\n",
       "      <td>B0000V8IOE</td>\n",
       "      <td>3.800000</td>\n",
       "      <td>5.0</td>\n",
       "      <td>4.097581</td>\n",
       "    </tr>\n",
       "    <tr>\n",
       "      <th>4</th>\n",
       "      <td>B00014DAHU</td>\n",
       "      <td>4.125000</td>\n",
       "      <td>16.0</td>\n",
       "      <td>4.157787</td>\n",
       "    </tr>\n",
       "  </tbody>\n",
       "</table>\n",
       "</div>"
      ],
      "text/plain": [
       "    ProductId     Score  Count  Weight_Score\n",
       "0  B0000CCZYY  4.750000    8.0      4.377050\n",
       "1  B0000DID5Q  4.714286    7.0      4.349965\n",
       "2  B0000GHNT0  5.000000    8.0      4.460383\n",
       "3  B0000V8IOE  3.800000    5.0      4.097581\n",
       "4  B00014DAHU  4.125000   16.0      4.157787"
      ]
     },
     "execution_count": 316,
     "metadata": {},
     "output_type": "execute_result"
    }
   ],
   "source": [
    "df4.head()"
   ]
  },
  {
   "cell_type": "code",
   "execution_count": 317,
   "metadata": {},
   "outputs": [
    {
     "data": {
      "text/html": [
       "<div>\n",
       "<style scoped>\n",
       "    .dataframe tbody tr th:only-of-type {\n",
       "        vertical-align: middle;\n",
       "    }\n",
       "\n",
       "    .dataframe tbody tr th {\n",
       "        vertical-align: top;\n",
       "    }\n",
       "\n",
       "    .dataframe thead th {\n",
       "        text-align: right;\n",
       "    }\n",
       "</style>\n",
       "<table border=\"1\" class=\"dataframe\">\n",
       "  <thead>\n",
       "    <tr style=\"text-align: right;\">\n",
       "      <th></th>\n",
       "      <th>ProductId</th>\n",
       "      <th>Score</th>\n",
       "      <th>Count</th>\n",
       "      <th>Weight_Score</th>\n",
       "    </tr>\n",
       "  </thead>\n",
       "  <tbody>\n",
       "    <tr>\n",
       "      <th>174</th>\n",
       "      <td>B000FELX2U</td>\n",
       "      <td>5.000000</td>\n",
       "      <td>16.0</td>\n",
       "      <td>4.595287</td>\n",
       "    </tr>\n",
       "    <tr>\n",
       "      <th>642</th>\n",
       "      <td>B0041QIK1U</td>\n",
       "      <td>5.000000</td>\n",
       "      <td>16.0</td>\n",
       "      <td>4.595287</td>\n",
       "    </tr>\n",
       "    <tr>\n",
       "      <th>696</th>\n",
       "      <td>B0050J6Q2M</td>\n",
       "      <td>5.000000</td>\n",
       "      <td>16.0</td>\n",
       "      <td>4.595287</td>\n",
       "    </tr>\n",
       "    <tr>\n",
       "      <th>22</th>\n",
       "      <td>B0002YGSCI</td>\n",
       "      <td>5.000000</td>\n",
       "      <td>12.0</td>\n",
       "      <td>4.537471</td>\n",
       "    </tr>\n",
       "    <tr>\n",
       "      <th>204</th>\n",
       "      <td>B000GW257S</td>\n",
       "      <td>5.000000</td>\n",
       "      <td>12.0</td>\n",
       "      <td>4.537471</td>\n",
       "    </tr>\n",
       "    <tr>\n",
       "      <th>179</th>\n",
       "      <td>B000FK63SS</td>\n",
       "      <td>4.875000</td>\n",
       "      <td>16.0</td>\n",
       "      <td>4.532787</td>\n",
       "    </tr>\n",
       "    <tr>\n",
       "      <th>472</th>\n",
       "      <td>B001IZM7QQ</td>\n",
       "      <td>4.875000</td>\n",
       "      <td>16.0</td>\n",
       "      <td>4.532787</td>\n",
       "    </tr>\n",
       "    <tr>\n",
       "      <th>433</th>\n",
       "      <td>B001EO6866</td>\n",
       "      <td>4.875000</td>\n",
       "      <td>16.0</td>\n",
       "      <td>4.532787</td>\n",
       "    </tr>\n",
       "    <tr>\n",
       "      <th>701</th>\n",
       "      <td>B0054S0P9E</td>\n",
       "      <td>4.875000</td>\n",
       "      <td>16.0</td>\n",
       "      <td>4.532787</td>\n",
       "    </tr>\n",
       "    <tr>\n",
       "      <th>346</th>\n",
       "      <td>B0016BAB42</td>\n",
       "      <td>4.875000</td>\n",
       "      <td>16.0</td>\n",
       "      <td>4.532787</td>\n",
       "    </tr>\n",
       "    <tr>\n",
       "      <th>717</th>\n",
       "      <td>B005OVPKCI</td>\n",
       "      <td>4.857143</td>\n",
       "      <td>14.0</td>\n",
       "      <td>4.501640</td>\n",
       "    </tr>\n",
       "    <tr>\n",
       "      <th>169</th>\n",
       "      <td>B000FDMQAE</td>\n",
       "      <td>4.750000</td>\n",
       "      <td>16.0</td>\n",
       "      <td>4.470287</td>\n",
       "    </tr>\n",
       "    <tr>\n",
       "      <th>224</th>\n",
       "      <td>B000KOSBE8</td>\n",
       "      <td>4.750000</td>\n",
       "      <td>16.0</td>\n",
       "      <td>4.470287</td>\n",
       "    </tr>\n",
       "    <tr>\n",
       "      <th>611</th>\n",
       "      <td>B003DYZNDO</td>\n",
       "      <td>4.750000</td>\n",
       "      <td>16.0</td>\n",
       "      <td>4.470287</td>\n",
       "    </tr>\n",
       "    <tr>\n",
       "      <th>135</th>\n",
       "      <td>B000EPMP40</td>\n",
       "      <td>4.750000</td>\n",
       "      <td>16.0</td>\n",
       "      <td>4.470287</td>\n",
       "    </tr>\n",
       "  </tbody>\n",
       "</table>\n",
       "</div>"
      ],
      "text/plain": [
       "      ProductId     Score  Count  Weight_Score\n",
       "174  B000FELX2U  5.000000   16.0      4.595287\n",
       "642  B0041QIK1U  5.000000   16.0      4.595287\n",
       "696  B0050J6Q2M  5.000000   16.0      4.595287\n",
       "22   B0002YGSCI  5.000000   12.0      4.537471\n",
       "204  B000GW257S  5.000000   12.0      4.537471\n",
       "179  B000FK63SS  4.875000   16.0      4.532787\n",
       "472  B001IZM7QQ  4.875000   16.0      4.532787\n",
       "433  B001EO6866  4.875000   16.0      4.532787\n",
       "701  B0054S0P9E  4.875000   16.0      4.532787\n",
       "346  B0016BAB42  4.875000   16.0      4.532787\n",
       "717  B005OVPKCI  4.857143   14.0      4.501640\n",
       "169  B000FDMQAE  4.750000   16.0      4.470287\n",
       "224  B000KOSBE8  4.750000   16.0      4.470287\n",
       "611  B003DYZNDO  4.750000   16.0      4.470287\n",
       "135  B000EPMP40  4.750000   16.0      4.470287"
      ]
     },
     "execution_count": 317,
     "metadata": {},
     "output_type": "execute_result"
    }
   ],
   "source": [
    "#Sort product based on score calculated above\n",
    "df4 = df4.sort_values('Weight_Score', ascending=False)\n",
    "\n",
    "#Print the top 15 product\n",
    "df4.head(15)"
   ]
  },
  {
   "cell_type": "code",
   "execution_count": null,
   "metadata": {},
   "outputs": [],
   "source": []
  }
 ],
 "metadata": {
  "kernelspec": {
   "display_name": "Python 3",
   "language": "python",
   "name": "python3"
  },
  "language_info": {
   "codemirror_mode": {
    "name": "ipython",
    "version": 3
   },
   "file_extension": ".py",
   "mimetype": "text/x-python",
   "name": "python",
   "nbconvert_exporter": "python",
   "pygments_lexer": "ipython3",
   "version": "3.7.3"
  }
 },
 "nbformat": 4,
 "nbformat_minor": 2
}
